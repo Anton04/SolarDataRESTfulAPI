{
 "metadata": {
  "name": ""
 },
 "nbformat": 3,
 "nbformat_minor": 0,
 "worksheets": [
  {
   "cells": [
    {
     "cell_type": "code",
     "collapsed": false,
     "input": [
      "from uuid import uuid1"
     ],
     "language": "python",
     "metadata": {},
     "outputs": [],
     "prompt_number": 3
    },
    {
     "cell_type": "code",
     "collapsed": false,
     "input": [
      "uuid1()"
     ],
     "language": "python",
     "metadata": {},
     "outputs": [
      {
       "metadata": {},
       "output_type": "pyout",
       "prompt_number": 29,
       "text": [
        "UUID('e8a13982-f651-11e3-a510-f23c9173ce4a')"
       ]
      }
     ],
     "prompt_number": 29
    },
    {
     "cell_type": "code",
     "collapsed": false,
     "input": [
      "cd \n"
     ],
     "language": "python",
     "metadata": {},
     "outputs": [
      {
       "output_type": "stream",
       "stream": "stdout",
       "text": [
        "/root\n"
       ]
      }
     ],
     "prompt_number": 5
    },
    {
     "cell_type": "code",
     "collapsed": false,
     "input": [
      "cd git/SolarDataRESTfulAPI/\n"
     ],
     "language": "python",
     "metadata": {},
     "outputs": [
      {
       "output_type": "stream",
       "stream": "stdout",
       "text": [
        "/root/git/SolarDataRESTfulAPI\n"
       ]
      }
     ],
     "prompt_number": 6
    },
    {
     "cell_type": "code",
     "collapsed": false,
     "input": [
      "import InfluxDBInterface\n",
      "reload(InfluxDBInterface)"
     ],
     "language": "python",
     "metadata": {},
     "outputs": [
      {
       "metadata": {},
       "output_type": "pyout",
       "prompt_number": 36,
       "text": [
        "<module 'InfluxDBInterface' from 'InfluxDBInterface.py'>"
       ]
      }
     ],
     "prompt_number": 36
    },
    {
     "cell_type": "code",
     "collapsed": false,
     "input": [
      "datalink = InfluxDBInterface.InfluxDBInterface(\"influxInterfaceCredentials.json\")"
     ],
     "language": "python",
     "metadata": {},
     "outputs": [
      {
       "output_type": "stream",
       "stream": "stdout",
       "text": [
        "[{u'database': u'by-id', u'host': u'livinglab2.powerprojects.se', u'password': u'1234', u'port': 8086, u'user': u'restapi'}, {u'database': u'by-administrative-region', u'host': u'livinglab2.powerprojects.se', u'password': u'1234', u'port': 8086, u'user': u'restapi'}]\n"
       ]
      }
     ],
     "prompt_number": 37
    },
    {
     "cell_type": "code",
     "collapsed": false,
     "input": [
      "datalink.databases"
     ],
     "language": "python",
     "metadata": {},
     "outputs": [
      {
       "metadata": {},
       "output_type": "pyout",
       "prompt_number": 38,
       "text": [
        "{u'by-administrative-region': <influxdb.client.InfluxDBClient at 0x7fed1770c090>,\n",
        " u'by-id': <influxdb.client.InfluxDBClient at 0x7fed1770c050>}"
       ]
      }
     ],
     "prompt_number": 38
    },
    {
     "cell_type": "code",
     "collapsed": false,
     "input": [
      "topics = datalink.listdataseries()"
     ],
     "language": "python",
     "metadata": {},
     "outputs": [],
     "prompt_number": 39
    },
    {
     "cell_type": "code",
     "collapsed": false,
     "input": [
      "topics"
     ],
     "language": "python",
     "metadata": {},
     "outputs": [
      {
       "metadata": {},
       "output_type": "pyout",
       "prompt_number": 40,
       "text": [
        "[u'by-id/b0dd71a8-efe8-41eb-bab1-633ebaaa778c/metadata',\n",
        " u'by-id/c6261166-f651-11e3-a510-f23c9173ce4a/raw_data',\n",
        " u'by-id/f1136e33-d227-4fbd-ae72-d3488d70ba89/metadata',\n",
        " u'by-id/f1136e33-d227-4fbd-ae72-d3488d70ba89/raw_data',\n",
        " u'by-id/32383bde-7648-4abe-9dac-44701eabd72f/metadata',\n",
        " u'by-id/46d55815-f927-459f-a8e2-8bbcd88008ee/raw_data',\n",
        " u'by-id/b0dd71a8-efe8-41eb-bab1-633ebaaa778c/raw_data',\n",
        " u'by-id/e63710a4-78d9-4071-9a2e-ad35534355f4/metadata',\n",
        " u'by-id/2a31fb24-347b-4924-ab89-5c434771a2ae/raw_data',\n",
        " u'by-id/4cf6c743-8d0b-45f0-aa72-8a0c10315cf5/metadata',\n",
        " u'by-id/4cf6c743-8d0b-45f0-aa72-8a0c10315cf5/raw_data',\n",
        " u'by-id/802afb51-c5eb-4230-9b22-9a77ef7260b3/metadata',\n",
        " u'by-id/e63710a4-78d9-4071-9a2e-ad35534355f4/raw_data',\n",
        " u'by-id/2a31fb24-347b-4924-ab89-5c434771a2ae/metadata',\n",
        " u'by-id/4a39b124-f594-11e3-a510-f23c9173ce4a/raw_data',\n",
        " u'by-id/6f075b69-b823-4e6b-8021-dd751cc79eea/raw_data',\n",
        " u'by-id/802afb51-c5eb-4230-9b22-9a77ef7260b3/raw_data',\n",
        " u'by-id/46d55815-f927-459f-a8e2-8bbcd88008ee/metadata',\n",
        " u'by-id/e8a13982-f651-11e3-a510-f23c9173ce4a/raw_data',\n",
        " u'by-id/face0d13-b22d-48fe-bec1-d29732604133/raw_data',\n",
        " u'by-id/32383bde-7648-4abe-9dac-44701eabd72f/raw_data',\n",
        " u'by-id/4a39b124-f594-11e3-a510-f23c9173ce4a/metadata',\n",
        " u'by-id/6f075b69-b823-4e6b-8021-dd751cc79eea/metadata',\n",
        " u'by-id/709e47a1-ca88-4c22-890f-2407e9cb131a/raw_data',\n",
        " u'by-administrative-region/test',\n",
        " u'by-administrative-region/Sweden/Stockholm/Stockholm/parts/messured_Wp_ratio',\n",
        " u'by-administrative-region/Sweden/Stockholm/Stockholm/parts/power',\n",
        " u'by-administrative-region/Sweden/Stockholm/Stockholm/total']"
       ]
      }
     ],
     "prompt_number": 40
    },
    {
     "cell_type": "code",
     "collapsed": false,
     "input": [],
     "language": "python",
     "metadata": {},
     "outputs": [
      {
       "metadata": {},
       "output_type": "pyout",
       "prompt_number": 27,
       "text": [
        "{u'by-adminsitrative-region': <influxdb.client.InfluxDBClient at 0x7fed17787510>,\n",
        " u'by-id': <influxdb.client.InfluxDBClient at 0x7fed17787910>}"
       ]
      }
     ],
     "prompt_number": 27
    },
    {
     "cell_type": "code",
     "collapsed": false,
     "input": [
      "d = MultiDict([('a', 'b'), ('a', 'c')])"
     ],
     "language": "python",
     "metadata": {},
     "outputs": [
      {
       "ename": "NameError",
       "evalue": "name 'MultiDict' is not defined",
       "output_type": "pyerr",
       "traceback": [
        "\u001b[0;31m---------------------------------------------------------------------------\u001b[0m\n\u001b[0;31mNameError\u001b[0m                                 Traceback (most recent call last)",
        "\u001b[0;32m<ipython-input-41-6571b4cac74e>\u001b[0m in \u001b[0;36m<module>\u001b[0;34m()\u001b[0m\n\u001b[0;32m----> 1\u001b[0;31m \u001b[0md\u001b[0m \u001b[0;34m=\u001b[0m \u001b[0mMultiDict\u001b[0m\u001b[0;34m(\u001b[0m\u001b[0;34m[\u001b[0m\u001b[0;34m(\u001b[0m\u001b[0;34m'a'\u001b[0m\u001b[0;34m,\u001b[0m \u001b[0;34m'b'\u001b[0m\u001b[0;34m)\u001b[0m\u001b[0;34m,\u001b[0m \u001b[0;34m(\u001b[0m\u001b[0;34m'a'\u001b[0m\u001b[0;34m,\u001b[0m \u001b[0;34m'c'\u001b[0m\u001b[0;34m)\u001b[0m\u001b[0;34m]\u001b[0m\u001b[0;34m)\u001b[0m\u001b[0;34m\u001b[0m\u001b[0m\n\u001b[0m",
        "\u001b[0;31mNameError\u001b[0m: name 'MultiDict' is not defined"
       ]
      }
     ],
     "prompt_number": 41
    },
    {
     "cell_type": "code",
     "collapsed": false,
     "input": [],
     "language": "python",
     "metadata": {},
     "outputs": []
    }
   ],
   "metadata": {}
  }
 ]
}