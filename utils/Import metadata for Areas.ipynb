{
 "metadata": {
  "name": ""
 },
 "nbformat": 3,
 "nbformat_minor": 0,
 "worksheets": [
  {
   "cells": [
    {
     "cell_type": "code",
     "collapsed": false,
     "input": [
      "cd git/SolarDataRESTfulAPI/\n"
     ],
     "language": "python",
     "metadata": {},
     "outputs": [
      {
       "output_type": "stream",
       "stream": "stdout",
       "text": [
        "/root/git/SolarDataRESTfulAPI\n"
       ]
      }
     ],
     "prompt_number": 1
    },
    {
     "cell_type": "code",
     "collapsed": false,
     "input": [
      "import pandas\n",
      "from influxdb import InfluxDBClient\n",
      "import json\n",
      "import numpy\n",
      "from elasticsearch import Elasticsearch\n",
      "import uuid\n",
      "from ElasticsearchInterface import ESinterface"
     ],
     "language": "python",
     "metadata": {},
     "outputs": [],
     "prompt_number": 2
    },
    {
     "cell_type": "code",
     "collapsed": false,
     "input": [
      "import ElasticsearchInterface\n",
      "reload(ElasticsearchInterface)"
     ],
     "language": "python",
     "metadata": {},
     "outputs": [
      {
       "metadata": {},
       "output_type": "pyout",
       "prompt_number": 3,
       "text": [
        "<module 'ElasticsearchInterface' from 'ElasticsearchInterface.pyc'>"
       ]
      }
     ],
     "prompt_number": 3
    },
    {
     "cell_type": "code",
     "collapsed": false,
     "input": [
      "\n",
      "es = ElasticsearchInterface.ESinterface()"
     ],
     "language": "python",
     "metadata": {},
     "outputs": [],
     "prompt_number": 4
    },
    {
     "cell_type": "code",
     "collapsed": false,
     "input": [
      "documentID = \"1s22fDTD-QxaocF7Co4_FJt5PDmH_L0cNFtYdWBioITY\"\n",
      "g_id = 992735001\n",
      "url = \"https://docs.google.com/spreadsheets/d/%s/export?gid=%i&exportFormat=csv\"%(documentID,g_id)  \n",
      "print url"
     ],
     "language": "python",
     "metadata": {},
     "outputs": [
      {
       "output_type": "stream",
       "stream": "stdout",
       "text": [
        "https://docs.google.com/spreadsheets/d/1s22fDTD-QxaocF7Co4_FJt5PDmH_L0cNFtYdWBioITY/export?gid=992735001&exportFormat=csv\n"
       ]
      }
     ],
     "prompt_number": 5
    },
    {
     "cell_type": "code",
     "collapsed": false,
     "input": [
      "df = pandas.read_csv(url,sep = \",\",skiprows=2, header = 0,index_col = 0 ,na_values = [\"     \",\"    \",\"  \",\" \",\"\",\"-\",\"NAN\",\"#DIV/0!\",\"#VALUE!\"])"
     ],
     "language": "python",
     "metadata": {},
     "outputs": [],
     "prompt_number": 6
    },
    {
     "cell_type": "code",
     "collapsed": false,
     "input": [
      "es.SaveDataFrameAsIndex(\"solar-area-index\",'meta-data',df)"
     ],
     "language": "python",
     "metadata": {},
     "outputs": [
      {
       "output_type": "stream",
       "stream": "stdout",
       "text": [
        "Processing meta for site: 449e6aee-0141-11e4-a510-f23c9173ce4a\n",
        "Updated elasticsearch entry\n",
        "Processing meta for site: 449e7296-0141-11e4-a510-f23c9173ce4a\n",
        "Updated elasticsearch entry\n",
        "Processing meta for site: 449e776e-0141-11e4-a510-f23c9173ce4a\n",
        "Updated elasticsearch entry"
       ]
      },
      {
       "output_type": "stream",
       "stream": "stdout",
       "text": [
        "\n",
        "Processing meta for site: 449e7d4a-0141-11e4-a510-f23c9173ce4a\n",
        "Updated elasticsearch entry\n",
        "Processing meta for site: 449e813c-0141-11e4-a510-f23c9173ce4a\n",
        "Updated elasticsearch entry\n",
        "Processing meta for site: 449e851a-0141-11e4-a510-f23c9173ce4a\n",
        "Updated elasticsearch entry\n",
        "Processing meta for site: 449e9d7a-0141-11e4-a510-f23c9173ce4a\n",
        "Updated elasticsearch entry\n",
        "Processing meta for site: 449ea180-0141-11e4-a510-f23c9173ce4a\n",
        "Updated elasticsearch entry\n",
        "Processing meta for site: 449ea590-0141-11e4-a510-f23c9173ce4a\n",
        "Updated elasticsearch entry\n",
        "Processing meta for site: 449eaa22-0141-11e4-a510-f23c9173ce4a\n",
        "Updated elasticsearch entry\n",
        "Processing meta for site: 449eb364-0141-11e4-a510-f23c9173ce4a\n",
        "Updated elasticsearch entry\n",
        "Processing meta for site: 449eb8c8-0141-11e4-a510-f23c9173ce4a\n",
        "Updated elasticsearch entry"
       ]
      },
      {
       "output_type": "stream",
       "stream": "stdout",
       "text": [
        "\n",
        "Processing meta for site: 449ebc88-0141-11e4-a510-f23c9173ce4a\n",
        "Updated elasticsearch entry\n",
        "Processing meta for site: 449ec3d6-0141-11e4-a510-f23c9173ce4a\n",
        "Updated elasticsearch entry\n",
        "Processing meta for site: 449ecf20-0141-11e4-a510-f23c9173ce4a\n",
        "Updated elasticsearch entry\n",
        "Processing meta for site: 449eda38-0141-11e4-a510-f23c9173ce4a\n",
        "Updated elasticsearch entry\n",
        "Processing meta for site: 449ee17c-0141-11e4-a510-f23c9173ce4a\n",
        "Updated elasticsearch entry"
       ]
      },
      {
       "output_type": "stream",
       "stream": "stdout",
       "text": [
        "\n",
        "Processing meta for site: 449ef5f4-0141-11e4-a510-f23c9173ce4a\n",
        "Updated elasticsearch entry\n",
        "Processing meta for site: 04964558-01f9-11e4-a510-f23c9173ce4a\n",
        "Updated elasticsearch entry\n"
       ]
      }
     ],
     "prompt_number": 7
    },
    {
     "cell_type": "code",
     "collapsed": false,
     "input": [],
     "language": "python",
     "metadata": {},
     "outputs": []
    }
   ],
   "metadata": {}
  }
 ]
}