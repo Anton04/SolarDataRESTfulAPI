{
 "metadata": {
  "name": ""
 },
 "nbformat": 3,
 "nbformat_minor": 0,
 "worksheets": [
  {
   "cells": [
    {
     "cell_type": "code",
     "collapsed": false,
     "input": [
      "from influxdb import InfluxDBClient\n",
      "\n",
      "host = \"localhost\"\n",
      "port = 8086\n",
      "user = 'restapi'\n",
      "password = '1234' #Or something more sofisticated\n",
      "dbname = 'by-administrative-region'\n",
      "\n",
      "query = 'list series;'\n",
      "\n",
      "\n",
      "client = InfluxDBClient(host, port, user, password, dbname)\n",
      "\n",
      "\n",
      "    #print(\"Queying data: \" + query)\n",
      "result = client.query(query)"
     ],
     "language": "python",
     "metadata": {},
     "outputs": [],
     "prompt_number": 8
    },
    {
     "cell_type": "code",
     "collapsed": false,
     "input": [
      "result"
     ],
     "language": "python",
     "metadata": {},
     "outputs": [
      {
       "metadata": {},
       "output_type": "pyout",
       "prompt_number": 9,
       "text": [
        "[{u'columns': [u'time', u'sequence_number'], u'name': u'test', u'points': []},\n",
        " {u'columns': [u'time', u'sequence_number'],\n",
        "  u'name': u'Sweden/Stockholm/Stockholm/parts/messured_Wp_ratio',\n",
        "  u'points': []},\n",
        " {u'columns': [u'time', u'sequence_number'],\n",
        "  u'name': u'Sweden/Stockholm/Stockholm/parts/power',\n",
        "  u'points': []},\n",
        " {u'columns': [u'time', u'sequence_number'],\n",
        "  u'name': u'Sweden/Stockholm/Stockholm/total',\n",
        "  u'points': []}]"
       ]
      }
     ],
     "prompt_number": 9
    },
    {
     "cell_type": "code",
     "collapsed": false,
     "input": [
      "type(result)"
     ],
     "language": "python",
     "metadata": {},
     "outputs": [
      {
       "metadata": {},
       "output_type": "pyout",
       "prompt_number": 10,
       "text": [
        "list"
       ]
      }
     ],
     "prompt_number": 10
    },
    {
     "cell_type": "code",
     "collapsed": false,
     "input": [
      "result[0]"
     ],
     "language": "python",
     "metadata": {},
     "outputs": [
      {
       "metadata": {},
       "output_type": "pyout",
       "prompt_number": 13,
       "text": [
        "{u'columns': [u'time', u'sequence_number'], u'name': u'test', u'points': []}"
       ]
      }
     ],
     "prompt_number": 13
    },
    {
     "cell_type": "code",
     "collapsed": false,
     "input": [
      "client.write_points_with_precision(,\"m\")"
     ],
     "language": "python",
     "metadata": {},
     "outputs": []
    },
    {
     "cell_type": "code",
     "collapsed": false,
     "input": [
      "client.query('select time from %s order asc limit 1;' % \"h00t\")"
     ],
     "language": "python",
     "metadata": {},
     "outputs": [
      {
       "metadata": {},
       "output_type": "pyout",
       "prompt_number": 12,
       "text": [
        "[]"
       ]
      }
     ],
     "prompt_number": 12
    },
    {
     "cell_type": "code",
     "collapsed": false,
     "input": [],
     "language": "python",
     "metadata": {},
     "outputs": []
    }
   ],
   "metadata": {}
  }
 ]
}