{
 "metadata": {
  "name": ""
 },
 "nbformat": 3,
 "nbformat_minor": 0,
 "worksheets": [
  {
   "cells": [
    {
     "cell_type": "code",
     "collapsed": false,
     "input": [
      "cd git/SolarDataRESTfulAPI/\n"
     ],
     "language": "python",
     "metadata": {},
     "outputs": [
      {
       "output_type": "stream",
       "stream": "stdout",
       "text": [
        "/root/git/SolarDataRESTfulAPI\n"
       ]
      }
     ],
     "prompt_number": 3
    },
    {
     "cell_type": "code",
     "collapsed": false,
     "input": [
      "import json\n",
      "import pandas as pd\n",
      "import InfluxDBInterface\n",
      "import time\n",
      "reload(InfluxDBInterface)\n",
      "from ElasticsearchInterface import ESinterface\n",
      "import sys\n",
      "\n",
      "\n",
      "DataLink = InfluxDBInterface.InfluxDBInterface(\"influxInterfaceCredentials2.json\")\n",
      "\n",
      "LogDB = DataLink.databases[u'SolarLogdata']\n",
      "ProductionDB = DataLink.databases[u'SolarProductionSites']\n",
      "\n",
      "\n",
      "es = ESinterface()\n",
      "\n"
     ],
     "language": "python",
     "metadata": {},
     "outputs": [],
     "prompt_number": 4
    },
    {
     "cell_type": "code",
     "collapsed": false,
     "input": [
      "\n",
      "\n",
      "def CalculateProduction(LogDB,ProductionDB):\n",
      "    \n",
      "    aWeek = 7*60*60*24\n",
      "    \n",
      "    Sites = LogDB.ListSeries()\n",
      "    \n",
      "    for Site in Sites:\n",
      "        CalculateEnergyCounterForSite(LogDB,ProductionDB,Site,aWeek)\n",
      "    \n",
      "            \n",
      "            \n",
      "            \n",
      "            \n",
      "            \n",
      "def CalculatePowerForSite(LogDB,ProductionDB,Site,PeriodSize):\n",
      "    print \"Processing Power for %s\" % Site\n",
      "    Properties = LogDB.GetPropertiesPartiallyMatchingAbutNotB(Site,\"Pac\",\"Tot\")\n",
      "    print \"\\t%i inverters found\" % len(Properties)\n",
      "    \n",
      "    LastUpdate = ProductionDB.GetLastTimestamp(Site,\"Power\")\n",
      "    \n",
      "    #No previous calculations done, start from the beginnnig of log series. \n",
      "    if LastUpdate == None:\n",
      "        print \"\\tNo previous power data calculated for %s, starting from beginning.\" % Site\n",
      "        LastUpdate = LogDB.GetFirstTimestamp(Site)\n",
      "        \n",
      "        #No data.\n",
      "        if LastUpdate == None:\n",
      "            print \"\\tNo data found for %s\" % Site\n",
      "            return\n",
      "    \n",
      "    else:\n",
      "        print \"\\tStarting calculations from: %i\" % LastUpdate\n",
      "        \n",
      "    DataUntil = LogDB.GetLastTimestamp(Site)\n",
      "    PeriodStart = LastUpdate\n",
      "    \n",
      "    if DataUntil == PeriodStart:\n",
      "        print \"\\tUp to date!\"\n",
      "    \n",
      "    #Loop trough timeseries\n",
      "    while PeriodStart < DataUntil:\n",
      "        df = LogDB.GetDataPeriod(Site,Properties,PeriodStart/1000,PeriodSize,10000)\n",
      "        if type(df) != pd.core.frame.DataFrame:\n",
      "            print \"Missing data at: %i\" % PeriodStart\n",
      "            PeriodStart += PeriodSize*1000\n",
      "            continue\n",
      "            \n",
      "        SumColsIntoCol(df,Properties,\"Power\")\n",
      "        row = ProductionDB.Save(Site,df[[\"Power\"]])\n",
      "        print \"\\t%i rows of data saved to %s\" % (row,Site)\n",
      "        PeriodStart += PeriodSize*1000\n",
      "        \n",
      "def CalculateEnergyCounterForSite(LogDB,ProductionDB,Site,PeriodSize):\n",
      "    print \"Processing Energy counter for %s\" % Site\n",
      "    Properties = LogDB.GetPropertiesPartiallyMatchingAbutNotB(Site,\"POWc\",\"Tot\")\n",
      "    print \"\\t%i inverters found\" % len(Properties)\n",
      "    \n",
      "    (LastUpdate,LastValue) = ProductionDB.GetLastValue(Site,\"Energy\")\n",
      "    \n",
      "    \n",
      "    \n",
      "    #No previous calculations done, start from the beginnnig of log series. \n",
      "    if LastUpdate == None:\n",
      "        print \"\\tNo previous energy data calculated for %s, starting from beginning.\" % Site\n",
      "        \n",
      "        #Start from where we have raw data\n",
      "        LastUpdate = LogDB.GetFirstTimestamp(Site)\n",
      "        \n",
      "        #Counter start from 0 \n",
      "        LastValue = 0\n",
      "        \n",
      "        #No data.\n",
      "        if LastUpdate == None:\n",
      "            print \"\\tNo data found for %s\" % Site\n",
      "            return\n",
      "    \n",
      "    else:\n",
      "        print \"\\tStarting calculations from: %s\" % EpocToDate(LastUpdate/1000)\n",
      "        \n",
      "    DataUntil = LogDB.GetLastTimestamp(Site)\n",
      "    PeriodStart = LastUpdate\n",
      "    \n",
      "    if DataUntil == PeriodStart:\n",
      "        print \"\\tUp to date!\"\n",
      "    \n",
      "    #Loop trough timeseries\n",
      "    while PeriodStart < DataUntil:\n",
      "        print \"\\tRunning period %s to %s\" % (EpocToDate(PeriodStart/1000),EpocToDate((PeriodStart/1000+PeriodSize)))\n",
      "        df = LogDB.GetDataPeriod(Site,Properties,PeriodStart/1000,PeriodSize,10000)\n",
      "        if type(df) != pd.core.frame.DataFrame:\n",
      "            print \"\\t\\tNo data\"\n",
      "            PeriodStart += PeriodSize*1000\n",
      "            continue\n",
      "        else:\n",
      "            print \"\\t\\t%i rows of data found.\" % df.shape[0]\n",
      "        \n",
      "        #Remove the reset every 24h.\n",
      "        df = df.apply(RemoveResets)\n",
      "        \n",
      "        #We need a continious series \n",
      "        if df.index[0]*1000 != LastUpdate:\n",
      "            print \"\\t*** Sync error\"\n",
      "            \n",
      "            print df.index[0]*1000 , LastUpdate\n",
      "            print df.index[-1]*1000\n",
      "            print df.shape\n",
      "            print PeriodStart\n",
      "            break\n",
      "        \n",
      "        SumColsIntoCol(df,Properties,\"Energy\")\n",
      "        \n",
      "        #Add previous counter value \n",
      "        Offset = LastValue - df[\"Energy\"].iloc[0]\n",
      "        df[\"Energy\"] += Offset\n",
      "        \n",
      "        LastUpdate = df.index[-1]*1000\n",
      "        LastValue = df[\"Energy\"].iloc[-1]\n",
      "        \n",
      "        #Drop duplicate row and save if data.\n",
      "        if df.shape[0] > 1:\n",
      "            row = ProductionDB.Save(Site,df.iloc[1:][[\"Energy\"]])\n",
      "            print \"\\t%i rows of data saved to %s\" % (row,Site)\n",
      "            \n",
      "        PeriodStart += PeriodSize*1000\n",
      "        \n",
      "    print \"\\tEnergy calculations finnished!\"\n",
      "                \n",
      "def SumColsIntoCol(df,Properties,Name):\n",
      "    df[Name] = 0\n",
      "    \n",
      "    for p in Properties:\n",
      "        df[Name] += df[p]\n",
      "    \n",
      "                \n",
      "\n",
      "\n",
      "\n"
     ],
     "language": "python",
     "metadata": {},
     "outputs": [],
     "prompt_number": 23
    },
    {
     "cell_type": "code",
     "collapsed": false,
     "input": [
      "def EpocToDate(timestamp):\n",
      "    return time.strftime(\"%Y-%m-%d %H:%M:%S\",time.localtime(timestamp))\n",
      "        \n",
      "def SecToHMS(sec):\n",
      "    sec = int(sec)\n",
      "    hour = sec / 3600\n",
      "    minutes = (sec - (hour * 3600))/60\n",
      "    secs = sec % 60\n",
      "    return \"%i h %i min %i s\" %(hour,minutes,secs)\n",
      "\n",
      "def RemoveResets(series):\n",
      "    \n",
      "    FirstValue = series.iloc[0]\n",
      "    change =  series.diff().clip(0)\n",
      "    change.iloc[0] = FirstValue\n",
      "    return change.cumsum()\n",
      "\n",
      "def CalculateProduction(Site,LogDB,ProductionDB,Recalculate=False):\n",
      "\n",
      "    #Create property lists\n",
      "    EnergyProp = LogDB.GetPropertiesPartiallyMatchingAbutNotB(Site,\"POWc\",\"Tot\")\n",
      "    PowerProp = LogDB.GetPropertiesPartiallyMatchingAbutNotB(Site,\"Pac\",\"Tot\")\n",
      "    \n",
      "    PreviousLastValidValue = 0\n",
      "    PreviousLastValidValueTime = 0\n",
      "    \n",
      "    #Determine where to resume.\n",
      "    if Recalculate == False:\n",
      "        (PreviousLastValidValueTime,PreviousLastValidValue) = ProductionDB.GetLastValue(Site,\"Energy\")\n",
      "        TimestampP = ProductionDB.GetLastTimestamp(Site,\"Power\")\n",
      "        \n",
      "        #The start from where we have both power and energy values. \n",
      "        if TimestampP < PreviousLastValidValueTime:\n",
      "            PreviousLastValidValueTime = TimestampP\n",
      "            \n",
      "        PreviousLastValidValueTime = PreviousLastValidValueTime / 1000\n",
      "            \n",
      "        print \"\\tResuming calculation from: %s\" % EpocToDate(PreviousLastValidValueTime)\n",
      "            \n",
      "        #Get last data. \n",
      "        dfLog = LogDB.GetDataAfterTime(Site,EnergyProp + PowerProp,PreviousLastValidValueTime,1000)\n",
      "    \n",
      "    else:  \n",
      "        #Get a log data chunck\n",
      "        dfLog = LogDB.GetDataAfterTime(Site,EnergyProp + PowerProp,None,1000)\n",
      "    \n",
      "    while (dfLog.shape[0] > 1):\n",
      "    \n",
      "        #Create a production frame.\n",
      "        dfProduction = pd.DataFrame(columns = [\"Power\",\"Energy\"])\n",
      "        \n",
      "        \n",
      "        #Calculate power\n",
      "        dfProduction[\"Power\"] = dfLog[PowerProp].sum(axis=1)\n",
      "        \n",
      "        #Calculate energy\n",
      "        dfPOWc = dfLog[EnergyProp]\n",
      "        dfProduction[\"Energy\"] = dfPOWc.apply(RemoveResets).sum(axis=1)\n",
      "        \n",
      "        #Add offset from previus iteration.\n",
      "        \n",
      "        #Check if we have overlap. Is the last time the same as the smallest countervalue in the current array.\n",
      "        FirstValidValueTime = dfProduction[\"Energy\"].idxmin()\n",
      "        \n",
      "        #First time ever... or just NaN values in data. \n",
      "        if PreviousLastValidValueTime == None or pd.isnull(FirstValidValueTime):\n",
      "            offset = 0\n",
      "        #Normal overlap\n",
      "        else:   \n",
      "            offset = PreviousLastValidValue - dfProduction[\"Energy\"][FirstValidValueTime]\n",
      "        \n",
      "        dfProduction[\"Energy\"] += offset\n",
      "        \n",
      "        #Update database\n",
      "        ProductionDB.Replace(Site,dfProduction)\n",
      "        \n",
      "        #Keep track of counter max.\n",
      "        MaxEnergyTime = dfProduction[\"Energy\"].idxmax()\n",
      "        \n",
      "        if not pd.isnull(MaxEnergyTime):\n",
      "            PreviousLastValidValue = dfProduction[\"Energy\"][MaxEnergyTime]\n",
      "            PreviousLastValidValueTime = MaxEnergyTime\n",
      "        \n",
      "        dfLog = LogDB.GetNextNRows(dfLog,1000)\n",
      "        \n",
      "    return dfLog.index[-1]\n"
     ],
     "language": "python",
     "metadata": {},
     "outputs": [],
     "prompt_number": 28
    },
    {
     "cell_type": "code",
     "collapsed": false,
     "input": [
      "Sites = LogDB.ListSeries()\n",
      "#Sites = [\"8b28b202-1da8-11e4-a510-f23c9173ce4a\"]\n",
      "\n",
      "now = time.time()\n",
      "    \n",
      "for Site in Sites:\n",
      " \n",
      "#Site = \"46d55815-f927-459f-a8e2-8bbcd88008ee\"\n",
      "    print \"Processing %s \" % Site \n",
      "    \n",
      "    sys.stdout.flush()\n",
      "\n",
      "    until = CalculateProduction(Site,LogDB,ProductionDB,False)\n",
      "    \n",
      "    until = int(now - until)\n",
      "    \n",
      "    hour = until / 3600\n",
      "    \n",
      "    minutes = (until - (hour * 3600))/60\n",
      "    \n",
      "    secs = until % 60\n",
      "    \n",
      "    print \"\\tFinnished processing up to %i hours %i minutes and %i seconds from script start time\" % (hour,minutes,secs)\n",
      "    \n",
      "    sys.stdout.flush()\n",
      "\n",
      "print \"Done\"\n",
      "\n",
      "sys.stdout.flush()\n",
      "\n"
     ],
     "language": "python",
     "metadata": {},
     "outputs": [
      {
       "output_type": "stream",
       "stream": "stdout",
       "text": [
        "Processing 2a31fb24-347b-4924-ab89-5c434771a2ae \n"
       ]
      },
      {
       "output_type": "stream",
       "stream": "stdout",
       "text": [
        "\tResuming calculation from: 2014-09-04 19:30:00\n",
        "\tFinnished processing up to 5 hours 52 minutes and 37 seconds from script start time"
       ]
      },
      {
       "output_type": "stream",
       "stream": "stdout",
       "text": [
        "\n"
       ]
      },
      {
       "output_type": "stream",
       "stream": "stdout",
       "text": [
        "Processing 32383bde-7648-4abe-9dac-44701eabd72f \n"
       ]
      },
      {
       "output_type": "stream",
       "stream": "stdout",
       "text": [
        "\tResuming calculation from: 2014-09-04 19:00:00\n",
        "\tFinnished processing up to 5 hours 52 minutes and 37 seconds from script start time"
       ]
      },
      {
       "output_type": "stream",
       "stream": "stdout",
       "text": [
        "\n"
       ]
      },
      {
       "output_type": "stream",
       "stream": "stdout",
       "text": [
        "Processing 46d55815-f927-459f-a8e2-8bbcd88008ee \n"
       ]
      },
      {
       "output_type": "stream",
       "stream": "stdout",
       "text": [
        "\tResuming calculation from: 2014-09-03 09:40:00\n",
        "\tFinnished processing up to 6 hours 2 minutes and 37 seconds from script start time"
       ]
      },
      {
       "output_type": "stream",
       "stream": "stdout",
       "text": [
        "\n"
       ]
      },
      {
       "output_type": "stream",
       "stream": "stdout",
       "text": [
        "Processing 4a39b124-f594-11e3-a510-f23c9173ce4a \n"
       ]
      },
      {
       "output_type": "stream",
       "stream": "stdout",
       "text": [
        "\tResuming calculation from: 2014-09-04 19:20:00\n",
        "\tFinnished processing up to 5 hours 52 minutes and 37 seconds from script start time"
       ]
      },
      {
       "output_type": "stream",
       "stream": "stdout",
       "text": [
        "\n"
       ]
      },
      {
       "output_type": "stream",
       "stream": "stdout",
       "text": [
        "Processing 4cf6c743-8d0b-45f0-aa72-8a0c10315cf5 \n"
       ]
      },
      {
       "output_type": "stream",
       "stream": "stdout",
       "text": [
        "\tResuming calculation from: 2014-09-04 19:00:00\n",
        "\tFinnished processing up to 5 hours 32 minutes and 37 seconds from script start time"
       ]
      },
      {
       "output_type": "stream",
       "stream": "stdout",
       "text": [
        "\n"
       ]
      },
      {
       "output_type": "stream",
       "stream": "stdout",
       "text": [
        "Processing 6f075b69-b823-4e6b-8021-dd751cc79eea \n"
       ]
      },
      {
       "output_type": "stream",
       "stream": "stdout",
       "text": [
        "\tResuming calculation from: 2014-09-04 19:40:00\n",
        "\tFinnished processing up to 5 hours 42 minutes and 37 seconds from script start time"
       ]
      },
      {
       "output_type": "stream",
       "stream": "stdout",
       "text": [
        "\n"
       ]
      },
      {
       "output_type": "stream",
       "stream": "stdout",
       "text": [
        "Processing 709e47a1-ca88-4c22-890f-2407e9cb131a \n"
       ]
      },
      {
       "output_type": "stream",
       "stream": "stdout",
       "text": [
        "\tResuming calculation from: 2014-09-04 19:00:00\n",
        "\tFinnished processing up to 5 hours 32 minutes and 37 seconds from script start time"
       ]
      },
      {
       "output_type": "stream",
       "stream": "stdout",
       "text": [
        "\n"
       ]
      },
      {
       "output_type": "stream",
       "stream": "stdout",
       "text": [
        "Processing 71b0e5ec-1da8-11e4-a510-f23c9173ce4a \n"
       ]
      },
      {
       "output_type": "stream",
       "stream": "stdout",
       "text": [
        "\tResuming calculation from: 2014-08-06 20:20:00\n",
        "\tFinnished processing up to 691 hours 32 minutes and 37 seconds from script start time"
       ]
      },
      {
       "output_type": "stream",
       "stream": "stdout",
       "text": [
        "\n"
       ]
      },
      {
       "output_type": "stream",
       "stream": "stdout",
       "text": [
        "Processing 79ea7d0e-1da8-11e4-a510-f23c9173ce4a \n"
       ]
      },
      {
       "output_type": "stream",
       "stream": "stdout",
       "text": [
        "\tResuming calculation from: 2014-08-15 19:50:00\n",
        "\tFinnished processing up to 5 hours 32 minutes and 37 seconds from script start time"
       ]
      },
      {
       "output_type": "stream",
       "stream": "stdout",
       "text": [
        "\n"
       ]
      },
      {
       "output_type": "stream",
       "stream": "stdout",
       "text": [
        "Processing 802afb51-c5eb-4230-9b22-9a77ef7260b3 \n"
       ]
      },
      {
       "output_type": "stream",
       "stream": "stdout",
       "text": [
        "\tResuming calculation from: 2014-09-04 19:30:00\n",
        "\tFinnished processing up to 5 hours 52 minutes and 37 seconds from script start time"
       ]
      },
      {
       "output_type": "stream",
       "stream": "stdout",
       "text": [
        "\n"
       ]
      },
      {
       "output_type": "stream",
       "stream": "stdout",
       "text": [
        "Processing 845e5e54-1da8-11e4-a510-f23c9173ce4a \n"
       ]
      },
      {
       "output_type": "stream",
       "stream": "stdout",
       "text": [
        "\tResuming calculation from: 2014-08-07 20:30:00\n",
        "\tFinnished processing up to 5 hours 32 minutes and 37 seconds from script start time"
       ]
      },
      {
       "output_type": "stream",
       "stream": "stdout",
       "text": [
        "\n"
       ]
      },
      {
       "output_type": "stream",
       "stream": "stdout",
       "text": [
        "Processing 8b28b202-1da8-11e4-a510-f23c9173ce4a \n"
       ]
      },
      {
       "output_type": "stream",
       "stream": "stdout",
       "text": [
        "\tResuming calculation from: 2014-09-04 19:10:00\n",
        "\tFinnished processing up to 5 hours 42 minutes and 37 seconds from script start time"
       ]
      },
      {
       "output_type": "stream",
       "stream": "stdout",
       "text": [
        "\n"
       ]
      },
      {
       "output_type": "stream",
       "stream": "stdout",
       "text": [
        "Processing 916b6e8e-1da8-11e4-a510-f23c9173ce4a \n"
       ]
      },
      {
       "output_type": "stream",
       "stream": "stdout",
       "text": [
        "\tResuming calculation from: 2014-08-07 20:50:00\n",
        "\tFinnished processing up to 5 hours 32 minutes and 37 seconds from script start time"
       ]
      },
      {
       "output_type": "stream",
       "stream": "stdout",
       "text": [
        "\n"
       ]
      },
      {
       "output_type": "stream",
       "stream": "stdout",
       "text": [
        "Processing b0dd71a8-efe8-41eb-bab1-633ebaaa778c \n"
       ]
      },
      {
       "output_type": "stream",
       "stream": "stdout",
       "text": [
        "\tResuming calculation from: 2014-09-04 19:20:00\n",
        "\tFinnished processing up to 5 hours 32 minutes and 37 seconds from script start time"
       ]
      },
      {
       "output_type": "stream",
       "stream": "stdout",
       "text": [
        "\n"
       ]
      },
      {
       "output_type": "stream",
       "stream": "stdout",
       "text": [
        "Processing c6261166-f651-11e3-a510-f23c9173ce4a \n"
       ]
      },
      {
       "output_type": "stream",
       "stream": "stdout",
       "text": [
        "\tResuming calculation from: 2014-09-04 18:50:00\n",
        "\tFinnished processing up to 6 hours 2 minutes and 37 seconds from script start time\n"
       ]
      },
      {
       "output_type": "stream",
       "stream": "stdout",
       "text": [
        "Processing e63710a4-78d9-4071-9a2e-ad35534355f4 \n"
       ]
      },
      {
       "output_type": "stream",
       "stream": "stdout",
       "text": [
        "\tResuming calculation from: 2014-09-04 19:10:00\n",
        "\tFinnished processing up to 5 hours 52 minutes and 37 seconds from script start time\n"
       ]
      },
      {
       "output_type": "stream",
       "stream": "stdout",
       "text": [
        "Processing e8a13982-f651-11e3-a510-f23c9173ce4a \n"
       ]
      },
      {
       "output_type": "stream",
       "stream": "stdout",
       "text": [
        "\tResuming calculation from: 2014-09-04 18:50:00\n",
        "\tFinnished processing up to 5 hours 52 minutes and 37 seconds from script start time\n"
       ]
      },
      {
       "output_type": "stream",
       "stream": "stdout",
       "text": [
        "Processing f1136e33-d227-4fbd-ae72-d3488d70ba89 \n"
       ]
      },
      {
       "output_type": "stream",
       "stream": "stdout",
       "text": [
        "\tResuming calculation from: 2014-09-04 19:30:00\n",
        "\tFinnished processing up to 5 hours 52 minutes and 37 seconds from script start time\n"
       ]
      },
      {
       "output_type": "stream",
       "stream": "stdout",
       "text": [
        "Processing face0d13-b22d-48fe-bec1-d29732604133 \n"
       ]
      },
      {
       "output_type": "stream",
       "stream": "stdout",
       "text": [
        "\tResuming calculation from: 2014-08-28 12:50:00\n",
        "\tFinnished processing up to 160 hours 22 minutes and 37 seconds from script start time"
       ]
      },
      {
       "output_type": "stream",
       "stream": "stdout",
       "text": [
        "\n"
       ]
      },
      {
       "output_type": "stream",
       "stream": "stdout",
       "text": [
        "Done\n"
       ]
      }
     ],
     "prompt_number": 30
    },
    {
     "cell_type": "code",
     "collapsed": false,
     "input": [
      "\n",
      "print \"SITES\"\n",
      "\n",
      "for site in Sites:\n",
      "    print \"-\"*50\n",
      "    LogStart = LogDB.GetFirstTimestamp(site)/1000\n",
      "    LogStop = LogDB.GetLastTimestamp(site)/1000\n",
      "    ProdStart = ProductionDB.GetFirstTimestamp(site)/1000\n",
      "    ProdStop = ProductionDB.GetLastTimestamp(site)/1000\n",
      "    now = time.time() \n",
      "    LogLag = now - LogStop\n",
      "    ProdLag = now - ProdStop\n",
      "    print site +\"\\n\"\n",
      "    print \"Log data: \\n\\tLagging\\t\\t%s  \\n\\tFirst value at\\t%s \\n\\tLast value at\\t%s \" %(SecToHMS(LogLag),EpocToDate(LogStart),EpocToDate(LogStop))\n",
      "    print \"Production data: \\n\\tLagging\\t\\t%s  \\n\\tFirst value at\\t%s \\n\\tLast value at\\t%s \" %(SecToHMS(ProdLag),EpocToDate(ProdStart),EpocToDate(ProdStop))\n",
      "    \n",
      "print \"-\"*50\n",
      "    "
     ],
     "language": "python",
     "metadata": {},
     "outputs": [
      {
       "output_type": "stream",
       "stream": "stdout",
       "text": [
        "SITES\n",
        "--------------------------------------------------\n",
        "8b28b202-1da8-11e4-a510-f23c9173ce4a\n",
        "\n",
        "Log data: \n",
        "\tLagging\t\t5 h 13 min 31 s  \n",
        "\tFirst value at\t2014-06-11 19:10:00 \n",
        "\tLast value at\t2014-09-04 20:10:00 \n",
        "Production data: \n",
        "\tLagging\t\t604 h 33 min 31 s  \n",
        "\tFirst value at\t2014-06-11 19:20:00 \n",
        "\tLast value at\t2014-08-10 20:50:00 \n",
        "--------------------------------------------------\n"
       ]
      }
     ],
     "prompt_number": 8
    },
    {
     "cell_type": "code",
     "collapsed": false,
     "input": [],
     "language": "python",
     "metadata": {},
     "outputs": []
    },
    {
     "cell_type": "code",
     "collapsed": false,
     "input": [
      "\n",
      "#Debug\n",
      "Site = \"71b0e5ec-1da8-11e4-a510-f23c9173ce4a\"\n",
      "\n",
      "print CalculateProduction(Site,LogDB,ProductionDB,False)\n"
     ],
     "language": "python",
     "metadata": {},
     "outputs": [
      {
       "output_type": "stream",
       "stream": "stdout",
       "text": [
        "\tResuming calculation from: 2014-08-07 05:20:00\n",
        "1407385200"
       ]
      },
      {
       "output_type": "stream",
       "stream": "stdout",
       "text": [
        "\n"
       ]
      }
     ],
     "prompt_number": 31
    },
    {
     "cell_type": "code",
     "collapsed": false,
     "input": [
      "PowerProp = LogDB.GetPropertiesPartiallyMatchingAbutNotB(Site,\"Pac\",\"Tot\")\n",
      "PowerProp\n",
      "EnergyProp = LogDB.GetPropertiesPartiallyMatchingAbutNotB(Site,\"POWc\",\"Tot\")\n",
      "EnergyProp"
     ],
     "language": "python",
     "metadata": {},
     "outputs": [
      {
       "metadata": {},
       "output_type": "pyout",
       "prompt_number": 12,
       "text": [
        "[u'POWc001']"
       ]
      }
     ],
     "prompt_number": 12
    },
    {
     "cell_type": "code",
     "collapsed": false,
     "input": [
      "Recalculate=False\n",
      "\n",
      "#Create property lists\n",
      "EnergyProp = LogDB.GetPropertiesPartiallyMatchingAbutNotB(Site,\"POWc\",\"Tot\")\n",
      "PowerProp = LogDB.GetPropertiesPartiallyMatchingAbutNotB(Site,\"Pac\",\"Tot\")\n",
      "\n",
      "PreviousLastValidValue = 0\n",
      "PreviousLastValidValueTime = 0\n",
      "\n",
      "#Determine where to resume.\n",
      "if Recalculate == False:\n",
      "    (PreviousLastValidValueTime,PreviousLastValidValue) = ProductionDB.GetLastValue(Site,\"Energy\")\n",
      "    TimestampP = ProductionDB.GetLastTimestamp(Site,\"Power\")\n",
      "    \n",
      " \n",
      "    #The start from where we have both power and energy values. \n",
      "    if TimestampP < PreviousLastValidValueTime:\n",
      "        PreviousLastValidValueTime = TimestampP\n",
      "        \n",
      "    PreviousLastValidValueTime = PreviousLastValidValueTime / 1000\n",
      "        \n",
      "    print \"\\tResuming calculation from: %s\" % EpocToDate(PreviousLastValidValueTime)\n",
      "        \n",
      "    #Get last data. \n",
      "    dfLog = LogDB.GetDataAfterTime(Site,EnergyProp + PowerProp,PreviousLastValidValueTime,100)\n",
      "\n",
      "else:  \n",
      "    #Get a log data chunck\n",
      "    dfLog = LogDB.GetDataAfterTime(Site,EnergyProp + PowerProp,None,100)\n",
      "\n"
     ],
     "language": "python",
     "metadata": {},
     "outputs": [
      {
       "output_type": "stream",
       "stream": "stdout",
       "text": [
        "\tResuming calculation from: 2014-08-07 05:20:00\n"
       ]
      }
     ],
     "prompt_number": 32
    },
    {
     "cell_type": "code",
     "collapsed": false,
     "input": [
      "print (dfLog.shape[0] > 1)\n",
      "\n",
      "#Create a production frame.\n",
      "dfProduction = pd.DataFrame(columns = [\"Power\",\"Energy\"])\n",
      "\n",
      "\n",
      "#Calculate power\n",
      "dfProduction[\"Power\"] = dfLog[PowerProp].sum(axis=1)\n",
      "\n",
      "#Calculate energy\n",
      "dfPOWc = dfLog[EnergyProp]\n",
      "dfProduction[\"Energy\"] = dfPOWc.apply(RemoveResets).sum(axis=1)\n",
      "\n",
      "#Add offset from previus iteration.\n",
      "\n",
      "#Check if we have overlap. Is the last time the same as the smallest countervalue in the current array.\n",
      "FirstValidValueTime = dfProduction[\"Energy\"].idxmin()\n",
      "\n",
      "#First time ever...\n",
      "if PreviousLastValidValueTime == None:\n",
      "    offset = 0\n",
      "#Normal overlap\n",
      "else: \n",
      "    offset = PreviousLastValidValue - dfProduction[\"Energy\"][FirstValidValueTime]\n",
      "\n",
      "dfProduction[\"Energy\"] += offset\n",
      "\n",
      "#Update database\n",
      "ProductionDB.Replace(Site,dfProduction)\n",
      "\n",
      "#Keep track of counter max.\n",
      "MaxEnergyTime = dfProduction[\"Energy\"].idxmax()\n",
      "\n",
      "if not pd.isnull(MaxEnergyTime):\n",
      "    PreviousLastValidValue = dfProduction[\"Energy\"][MaxEnergyTime]\n",
      "    PreviousLastValidValueTime = MaxEnergyTime\n",
      "\n",
      "oldLog = dfLog.iloc[-3:-1]\n",
      "oldLog.series = dfLog.series\n",
      "oldLog.properties = dfLog.properties\n",
      "\n",
      "dfLog = LogDB.GetNextNRows(dfLog,1000)\n",
      "    \n",
      "print dfLog.index[-1]"
     ],
     "language": "python",
     "metadata": {},
     "outputs": [
      {
       "output_type": "stream",
       "stream": "stdout",
       "text": [
        "True\n",
        "1394779200"
       ]
      },
      {
       "output_type": "stream",
       "stream": "stdout",
       "text": [
        "\n"
       ]
      }
     ],
     "prompt_number": 237
    },
    {
     "cell_type": "code",
     "collapsed": false,
     "input": [
      "dfLog"
     ],
     "language": "python",
     "metadata": {},
     "outputs": [
      {
       "html": [
        "<div style=\"max-height:1000px;max-width:1500px;overflow:auto;\">\n",
        "<table border=\"1\" class=\"dataframe\">\n",
        "  <thead>\n",
        "    <tr style=\"text-align: right;\">\n",
        "      <th></th>\n",
        "      <th>POWc001</th>\n",
        "      <th>Pac001</th>\n",
        "    </tr>\n",
        "    <tr>\n",
        "      <th>time</th>\n",
        "      <th></th>\n",
        "      <th></th>\n",
        "    </tr>\n",
        "  </thead>\n",
        "  <tbody>\n",
        "    <tr>\n",
        "      <th>1407696000</th>\n",
        "      <td> 96700</td>\n",
        "      <td> 600</td>\n",
        "    </tr>\n",
        "  </tbody>\n",
        "</table>\n",
        "</div>"
       ],
       "metadata": {},
       "output_type": "pyout",
       "prompt_number": 14,
       "text": [
        "            POWc001  Pac001\n",
        "time                       \n",
        "1407696000    96700     600"
       ]
      }
     ],
     "prompt_number": 14
    },
    {
     "cell_type": "code",
     "collapsed": false,
     "input": [
      "PreviousLastValidValueTime"
     ],
     "language": "python",
     "metadata": {},
     "outputs": [
      {
       "metadata": {},
       "output_type": "pyout",
       "prompt_number": 15,
       "text": [
        "1407696000"
       ]
      }
     ],
     "prompt_number": 15
    },
    {
     "cell_type": "code",
     "collapsed": false,
     "input": [
      "LogDB.GetDataAfterTime(Site,EnergyProp + PowerProp,PreviousLastValidValueTime,3000)"
     ],
     "language": "python",
     "metadata": {},
     "outputs": [
      {
       "html": [
        "<div style=\"max-height:1000px;max-width:1500px;overflow:auto;\">\n",
        "<table border=\"1\" class=\"dataframe\">\n",
        "  <thead>\n",
        "    <tr style=\"text-align: right;\">\n",
        "      <th></th>\n",
        "      <th>POWc001</th>\n",
        "      <th>Pac001</th>\n",
        "    </tr>\n",
        "    <tr>\n",
        "      <th>time</th>\n",
        "      <th></th>\n",
        "      <th></th>\n",
        "    </tr>\n",
        "  </thead>\n",
        "  <tbody>\n",
        "    <tr>\n",
        "      <th>1407381600</th>\n",
        "      <td> 100</td>\n",
        "      <td> 600</td>\n",
        "    </tr>\n",
        "    <tr>\n",
        "      <th>1407382200</th>\n",
        "      <td> 100</td>\n",
        "      <td> NaN</td>\n",
        "    </tr>\n",
        "    <tr>\n",
        "      <th>1407382800</th>\n",
        "      <td> 100</td>\n",
        "      <td> NaN</td>\n",
        "    </tr>\n",
        "    <tr>\n",
        "      <th>1407383400</th>\n",
        "      <td> 100</td>\n",
        "      <td> NaN</td>\n",
        "    </tr>\n",
        "    <tr>\n",
        "      <th>1407384000</th>\n",
        "      <td> 100</td>\n",
        "      <td> NaN</td>\n",
        "    </tr>\n",
        "    <tr>\n",
        "      <th>1407384600</th>\n",
        "      <td> 100</td>\n",
        "      <td> NaN</td>\n",
        "    </tr>\n",
        "    <tr>\n",
        "      <th>1407385200</th>\n",
        "      <td> 100</td>\n",
        "      <td> NaN</td>\n",
        "    </tr>\n",
        "  </tbody>\n",
        "</table>\n",
        "</div>"
       ],
       "metadata": {},
       "output_type": "pyout",
       "prompt_number": 35,
       "text": [
        "            POWc001  Pac001\n",
        "time                       \n",
        "1407381600      100     600\n",
        "1407382200      100     NaN\n",
        "1407382800      100     NaN\n",
        "1407383400      100     NaN\n",
        "1407384000      100     NaN\n",
        "1407384600      100     NaN\n",
        "1407385200      100     NaN"
       ]
      }
     ],
     "prompt_number": 35
    },
    {
     "cell_type": "code",
     "collapsed": false,
     "input": [],
     "language": "python",
     "metadata": {},
     "outputs": []
    }
   ],
   "metadata": {}
  }
 ]
}