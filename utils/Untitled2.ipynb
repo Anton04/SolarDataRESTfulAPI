{
 "metadata": {
  "name": ""
 },
 "nbformat": 3,
 "nbformat_minor": 0,
 "worksheets": [
  {
   "cells": [
    {
     "cell_type": "code",
     "collapsed": false,
     "input": [
      "import json\n"
     ],
     "language": "python",
     "metadata": {},
     "outputs": [],
     "prompt_number": 2
    },
    {
     "cell_type": "code",
     "collapsed": false,
     "input": [
      "ls\n"
     ],
     "language": "python",
     "metadata": {},
     "outputs": [
      {
       "output_type": "stream",
       "stream": "stdout",
       "text": [
        "CVS Importer.ipynb  \u001b[0m\u001b[01;31mgrafana-1.5.4.tar.gz\u001b[0m  \u001b[01;31minfluxdb_latest_amd64.deb\u001b[0m  SBL Importer2.ipynb            SolarProductionProducer.ipynb.bak  Untitled1.ipynb\r\n",
        "CVS parser.ipynb    ImportMetaData.ipynb  influx.json                SBL test.ipynb                 \u001b[01;34mtmp\u001b[0m/                               Untitled2.ipynb\r\n",
        "\u001b[01;34mdownloads\u001b[0m/          influx2.json          influx.json.save           SiteIDs.json                   Universe.ipynb\r\n",
        "\u001b[01;34mgit\u001b[0m/                influxDB.ipynb        \u001b[01;34mMQTT-Stage\u001b[0m/                SolarProductionProducer.ipynb  Untitled0.ipynb\r\n"
       ]
      }
     ],
     "prompt_number": 2
    },
    {
     "cell_type": "code",
     "collapsed": false,
     "input": [
      "f = open(\"SolarProductionProducer.ipynb\",\"r\")"
     ],
     "language": "python",
     "metadata": {},
     "outputs": [],
     "prompt_number": 3
    },
    {
     "cell_type": "code",
     "collapsed": false,
     "input": [
      "f2 = open(\"SolarProductionProducer.ipynb\",\"w\")\n",
      "json.dump(data,f2)"
     ],
     "language": "python",
     "metadata": {},
     "outputs": [],
     "prompt_number": 31
    },
    {
     "cell_type": "code",
     "collapsed": false,
     "input": [
      "data[u'worksheets'][0][u'cells'][9][u'outputs']= []"
     ],
     "language": "python",
     "metadata": {},
     "outputs": [],
     "prompt_number": 25
    },
    {
     "cell_type": "code",
     "collapsed": false,
     "input": [
      "data.keys()"
     ],
     "language": "python",
     "metadata": {},
     "outputs": [
      {
       "metadata": {},
       "output_type": "pyout",
       "prompt_number": 8,
       "text": [
        "[u'nbformat', u'nbformat_minor', u'worksheets', u'metadata']"
       ]
      }
     ],
     "prompt_number": 8
    },
    {
     "cell_type": "code",
     "collapsed": false,
     "input": [
      "data[u'worksheets'][0][u'cells'][9][u'outputs']"
     ],
     "language": "python",
     "metadata": {},
     "outputs": [
      {
       "metadata": {},
       "output_type": "pyout",
       "prompt_number": 30,
       "text": [
        "[]"
       ]
      }
     ],
     "prompt_number": 30
    },
    {
     "cell_type": "code",
     "collapsed": false,
     "input": [],
     "language": "python",
     "metadata": {},
     "outputs": []
    }
   ],
   "metadata": {}
  }
 ]
}