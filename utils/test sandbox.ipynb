{
 "metadata": {
  "name": ""
 },
 "nbformat": 3,
 "nbformat_minor": 0,
 "worksheets": [
  {
   "cells": [
    {
     "cell_type": "code",
     "collapsed": false,
     "input": [
      "from influxdb import client as influxdb"
     ],
     "language": "python",
     "metadata": {},
     "outputs": [],
     "prompt_number": 1
    },
    {
     "cell_type": "code",
     "collapsed": false,
     "input": [
      "db = influxdb.InfluxDBClient(\"sandbox.influxdb.com\", 8086, \"root\", \"root\", \"solstaden\")"
     ],
     "language": "python",
     "metadata": {},
     "outputs": [],
     "prompt_number": 2
    },
    {
     "cell_type": "code",
     "collapsed": false,
     "input": [
      "db.query(\"list series\",\"u\")"
     ],
     "language": "python",
     "metadata": {},
     "outputs": [
      {
       "metadata": {},
       "output_type": "pyout",
       "prompt_number": 4,
       "text": [
        "[]"
       ]
      }
     ],
     "prompt_number": 4
    },
    {
     "cell_type": "code",
     "collapsed": false,
     "input": [
      "db2 = influxdb.InfluxDBClient(\"livinglab2.powerprojects.se\",8086,\"grafana\",\"grafana123\",\"test\")"
     ],
     "language": "python",
     "metadata": {},
     "outputs": [],
     "prompt_number": 6
    },
    {
     "cell_type": "code",
     "collapsed": false,
     "input": [
      "\n"
     ],
     "language": "python",
     "metadata": {},
     "outputs": [
      {
       "metadata": {},
       "output_type": "pyout",
       "prompt_number": 22,
       "text": [
        "[{u'columns': [u'time', u'sequence_number', u'value'],\n",
        "  u'name': u'series1',\n",
        "  u'points': [[1403810574120190, 6350001, 2440],\n",
        "   [1403810573551826, 6340001, 2440],\n",
        "   [1403810571587382, 6330001, 240],\n",
        "   [1403810568785948, 6320001, 2240],\n",
        "   [1403810565502390, 6310001, 1240],\n",
        "   [1403810564096581, 6300001, 1240],\n",
        "   [1403810562317765, 6290001, 1230],\n",
        "   [1403810552862784, 6280001, 1200],\n",
        "   [1403810548121973, 6270001, 1000]]}]"
       ]
      }
     ],
     "prompt_number": 22
    },
    {
     "cell_type": "code",
     "collapsed": false,
     "input": [
      "db2.query(\"select * from /.*/ where time = 1403810574120190000 and sequence_number = 6350001\",\"u\")"
     ],
     "language": "python",
     "metadata": {},
     "outputs": [
      {
       "metadata": {},
       "output_type": "pyout",
       "prompt_number": 20,
       "text": [
        "[{u'columns': [u'time', u'sequence_number', u'value'],\n",
        "  u'name': u'series1',\n",
        "  u'points': [[1403810574120190, 6350001, 2440]]},\n",
        " {u'columns': [u'time', u'sequence_number'],\n",
        "  u'name': u'test',\n",
        "  u'points': [[1403810574120190, 6350001]]}]"
       ]
      }
     ],
     "prompt_number": 20
    },
    {
     "cell_type": "code",
     "collapsed": false,
     "input": [
      "db2.write_points_with_precision(,'u')"
     ],
     "language": "python",
     "metadata": {},
     "outputs": [
      {
       "ename": "SyntaxError",
       "evalue": "invalid syntax (<ipython-input-23-b3b4aaad21b7>, line 1)",
       "output_type": "pyerr",
       "traceback": [
        "\u001b[0;36m  File \u001b[0;32m\"<ipython-input-23-b3b4aaad21b7>\"\u001b[0;36m, line \u001b[0;32m1\u001b[0m\n\u001b[0;31m    db2.write_points_with_precision(,'u')\u001b[0m\n\u001b[0m                                    ^\u001b[0m\n\u001b[0;31mSyntaxError\u001b[0m\u001b[0;31m:\u001b[0m invalid syntax\n"
       ]
      }
     ],
     "prompt_number": 23
    },
    {
     "cell_type": "code",
     "collapsed": false,
     "input": [
      "db2.query(\"select value from series1 where time > 1403810562317765000 order asc limit 2\",\"u\")"
     ],
     "language": "python",
     "metadata": {},
     "outputs": [
      {
       "metadata": {},
       "output_type": "pyout",
       "prompt_number": 33,
       "text": [
        "[{u'columns': [u'time', u'sequence_number', u'value'],\n",
        "  u'name': u'series1',\n",
        "  u'points': [[1403810562317765, 6290001, 1230],\n",
        "   [1403810564096581, 6300001, 1240]]}]"
       ]
      }
     ],
     "prompt_number": 33
    },
    {
     "cell_type": "code",
     "collapsed": false,
     "input": [],
     "language": "python",
     "metadata": {},
     "outputs": []
    }
   ],
   "metadata": {}
  }
 ]
}