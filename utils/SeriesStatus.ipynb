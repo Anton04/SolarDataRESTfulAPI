{
 "metadata": {
  "name": ""
 },
 "nbformat": 3,
 "nbformat_minor": 0,
 "worksheets": [
  {
   "cells": [
    {
     "cell_type": "code",
     "collapsed": false,
     "input": [
      "cd git/SolarDataRESTfulAPI/"
     ],
     "language": "python",
     "metadata": {},
     "outputs": [
      {
       "output_type": "stream",
       "stream": "stdout",
       "text": [
        "/root/git/SolarDataRESTfulAPI\n"
       ]
      }
     ],
     "prompt_number": 1
    },
    {
     "cell_type": "code",
     "collapsed": false,
     "input": [
      "ls"
     ],
     "language": "python",
     "metadata": {},
     "outputs": [
      {
       "output_type": "stream",
       "stream": "stdout",
       "text": [
        "cvs_importer.py                 InfluxDBInterface.py.save.1       SiteIDs.json\r\n",
        "ElasticsearchInterface.py       influxInterfaceCredentials2.json  \u001b[0m\u001b[01;32mSLB_DataImporter.py\u001b[0m*\r\n",
        "ElasticsearchInterface.pyc      influxInterfaceCredentials.json   SLB_DataImporter.pyc\r\n",
        "ElasticsearchInterface.py.save  influx.json                       SolarDataRESTapi.py\r\n",
        "Feeds.json                      IoTtoolkit.py                     \u001b[01;32mSolarProductionProducer.py\u001b[0m*\r\n",
        "influx2.json                    IoTtoolkit.pyc                    \u001b[01;32mSolarRestAPI.sh\u001b[0m*\r\n",
        "InfluxDBInterface.py            LICENSE                           \u001b[01;34mtestdata\u001b[0m/\r\n",
        "InfluxDBInterface.pyc           README.md                         testREST.py\r\n",
        "InfluxDBInterface.py.save       \u001b[01;32mSeriesStatus.py\u001b[0m*                  Universe.json\r\n"
       ]
      }
     ],
     "prompt_number": 2
    },
    {
     "cell_type": "code",
     "collapsed": false,
     "input": [
      "import json\n",
      "import pandas as pd\n",
      "import InfluxDBInterface\n",
      "import time\n",
      "reload(InfluxDBInterface)\n",
      "from ElasticsearchInterface import ESinterface\n",
      "import IoTtoolkit\n",
      "#reload(IoTtoolkit)\n",
      "import sys\n",
      "import mosquitto\n",
      "import os\n",
      "import argparse\n",
      "\n",
      "DataLink = InfluxDBInterface.InfluxDBInterface(\"influxInterfaceCredentials2.json\")\n",
      "\n",
      "LogDB = DataLink.databases[u'SolarLogdata']\n",
      "ProductionDB = DataLink.databases[u'SolarProductionSites']\n",
      "AreaDB = DataLink.databases[u'SolarProductionAreas']\n",
      "Test = DataLink.databases[u'test']\n",
      "\n",
      "es = ESinterface()\n",
      "\n",
      "def EpocToDate(timestamp):\n",
      "    try:\n",
      "        return time.strftime(\"%Y-%m-%d %H:%M:%S\",time.localtime(timestamp))\n",
      "    except:\n",
      "        return \"-\"\n",
      "\n",
      "def SecToHMS(sec):\n",
      "    try:\n",
      "        sec = int(sec)\n",
      "        hour = sec / 3600\n",
      "        minutes = (sec - (hour * 3600))/60\n",
      "        secs = sec % 60\n",
      "        return \"%i h %i min %i s\" %(hour,minutes,secs)\n",
      "    except:\n",
      "        return \"-\""
     ],
     "language": "python",
     "metadata": {},
     "outputs": [],
     "prompt_number": 3
    },
    {
     "cell_type": "code",
     "collapsed": false,
     "input": [
      "def GetRawStatusFrame():\n",
      "\n",
      "    #Sites = LogDB.ListSeries()\n",
      "    res = es.GetHitsAsDataFrame(index=\"solar-sites-index\", doc_type='meta-data')\n",
      "    \n",
      "    Sites = res.columns\n",
      "    \n",
      "    print \"Procssing\"\n",
      "    \n",
      "    \n",
      "    \n",
      "    df = pd.DataFrame()\n",
      "    df.index.name = \"Sites\"\n",
      "    \n",
      "    now = time.time() *1000\n",
      "    \n",
      "    for site in Sites:\n",
      "        print \"*\",\n",
      "        \n",
      "        df.loc[site,\"OpID\"] = res[site][\"Operator_ID\"]\n",
      "        \n",
      "        df.loc[site,\"LogStart\"] = LogDB.GetFirstTimestamp(site)\n",
      "        df.loc[site,\"LogStop\"] = LogDB.GetLastTimestamp(site)\n",
      "        \n",
      "        df.loc[site,\"ProdStart\"]  = ProductionDB.GetFirstTimestamp(site) \n",
      "        df.loc[site,\"ProdStop\"] = ProductionDB.GetLastTimestamp(site)\n",
      "    \n",
      "    \n",
      "    df[\"LogLag\"] = now - df[\"LogStop\"]\n",
      "    df[\"ProdLag\"] = now - df[\"ProdStop\"]\n",
      "    \n",
      "    print \"\\rDone!           \"\n",
      "    \n",
      "    \n",
      "    return df"
     ],
     "language": "python",
     "metadata": {},
     "outputs": [],
     "prompt_number": 4
    },
    {
     "cell_type": "code",
     "collapsed": false,
     "input": [
      "def FormatStatusFrame(df):\n",
      "    df2 = pd.DataFrame()\n",
      "    \n",
      "    df2[\"OpID\"] = df[\"OpID\"]\n",
      "    \n",
      "    df2[\"LogLag\"] = (df.LogLag/1000).apply(SecToHMS)\n",
      "    df2[\"LogStop\"] = (df.LogStop/1000).apply(EpocToDate)\n",
      "    df2[\"LogStart\"] = (df.LogStart/1000).apply(EpocToDate)\n",
      "    \n",
      "    df2[\"ProdLag\"] = (df.ProdLag/1000).apply(SecToHMS)\n",
      "    df2[\"ProdStop\"] = (df.ProdStop/1000).apply(EpocToDate)\n",
      "    df2[\"ProdStart\"] = (df.ProdStart/1000).apply(EpocToDate)\n",
      "    \n",
      "    df2 = df2.reindex_axis(df.columns, axis=1)\n",
      "    \n",
      "    return df2"
     ],
     "language": "python",
     "metadata": {},
     "outputs": [],
     "prompt_number": 5
    },
    {
     "cell_type": "code",
     "collapsed": false,
     "input": [
      "def GetStatusFrame():\n",
      "    return FormatStatusFrame(GetRawStatusFrame())"
     ],
     "language": "python",
     "metadata": {},
     "outputs": [],
     "prompt_number": 6
    },
    {
     "cell_type": "code",
     "collapsed": false,
     "input": [
      "def UpdateStatusWebpage(filename = \"/var/www/html/status.html\"):\n",
      "    \n",
      "    status_raw = GetRawStatusFrame()\n",
      "    status = FormatStatusFrame(status_raw.sort(\"ProdLag\"))\n",
      "    \n",
      "    html = status.to_html(max_rows=50)\n",
      "    \n",
      "    file = open(filename,\"w\")\n",
      "    \n",
      "    file.write(html)\n",
      "    \n",
      "    file.close()\n",
      "    \n",
      "    #print status\n",
      "    \n",
      "    print \"Status written to %s\" % filename\n",
      "    "
     ],
     "language": "python",
     "metadata": {},
     "outputs": [],
     "prompt_number": 7
    },
    {
     "cell_type": "code",
     "collapsed": false,
     "input": [
      "UpdateStatusWebpage()"
     ],
     "language": "python",
     "metadata": {},
     "outputs": [
      {
       "output_type": "stream",
       "stream": "stdout",
       "text": [
        "Got 47 Hits:\n",
        "Procssing\n",
        "* "
       ]
      },
      {
       "output_type": "stream",
       "stream": "stdout",
       "text": [
        "* "
       ]
      },
      {
       "output_type": "stream",
       "stream": "stdout",
       "text": [
        "* "
       ]
      },
      {
       "output_type": "stream",
       "stream": "stdout",
       "text": [
        "* "
       ]
      },
      {
       "output_type": "stream",
       "stream": "stdout",
       "text": [
        "* "
       ]
      },
      {
       "output_type": "stream",
       "stream": "stdout",
       "text": [
        "* "
       ]
      },
      {
       "output_type": "stream",
       "stream": "stdout",
       "text": [
        "* "
       ]
      },
      {
       "output_type": "stream",
       "stream": "stdout",
       "text": [
        "* "
       ]
      },
      {
       "output_type": "stream",
       "stream": "stdout",
       "text": [
        "* "
       ]
      },
      {
       "output_type": "stream",
       "stream": "stdout",
       "text": [
        "* "
       ]
      },
      {
       "output_type": "stream",
       "stream": "stdout",
       "text": [
        "* "
       ]
      },
      {
       "output_type": "stream",
       "stream": "stdout",
       "text": [
        "* "
       ]
      },
      {
       "output_type": "stream",
       "stream": "stdout",
       "text": [
        "* "
       ]
      },
      {
       "output_type": "stream",
       "stream": "stdout",
       "text": [
        "* "
       ]
      },
      {
       "output_type": "stream",
       "stream": "stdout",
       "text": [
        "* "
       ]
      },
      {
       "output_type": "stream",
       "stream": "stdout",
       "text": [
        "* "
       ]
      },
      {
       "output_type": "stream",
       "stream": "stdout",
       "text": [
        "* "
       ]
      },
      {
       "output_type": "stream",
       "stream": "stdout",
       "text": [
        "* "
       ]
      },
      {
       "output_type": "stream",
       "stream": "stdout",
       "text": [
        "* "
       ]
      },
      {
       "output_type": "stream",
       "stream": "stdout",
       "text": [
        "* "
       ]
      },
      {
       "output_type": "stream",
       "stream": "stdout",
       "text": [
        "* "
       ]
      },
      {
       "output_type": "stream",
       "stream": "stdout",
       "text": [
        "* "
       ]
      },
      {
       "output_type": "stream",
       "stream": "stdout",
       "text": [
        "* "
       ]
      },
      {
       "output_type": "stream",
       "stream": "stdout",
       "text": [
        "* "
       ]
      },
      {
       "output_type": "stream",
       "stream": "stdout",
       "text": [
        "* "
       ]
      },
      {
       "output_type": "stream",
       "stream": "stdout",
       "text": [
        "* "
       ]
      },
      {
       "output_type": "stream",
       "stream": "stdout",
       "text": [
        "* "
       ]
      },
      {
       "output_type": "stream",
       "stream": "stdout",
       "text": [
        "* "
       ]
      },
      {
       "output_type": "stream",
       "stream": "stdout",
       "text": [
        "* "
       ]
      },
      {
       "output_type": "stream",
       "stream": "stdout",
       "text": [
        "* "
       ]
      },
      {
       "output_type": "stream",
       "stream": "stdout",
       "text": [
        "* "
       ]
      },
      {
       "output_type": "stream",
       "stream": "stdout",
       "text": [
        "* "
       ]
      },
      {
       "output_type": "stream",
       "stream": "stdout",
       "text": [
        "* "
       ]
      },
      {
       "output_type": "stream",
       "stream": "stdout",
       "text": [
        "* "
       ]
      },
      {
       "output_type": "stream",
       "stream": "stdout",
       "text": [
        "* "
       ]
      },
      {
       "output_type": "stream",
       "stream": "stdout",
       "text": [
        "* "
       ]
      },
      {
       "output_type": "stream",
       "stream": "stdout",
       "text": [
        "* "
       ]
      },
      {
       "output_type": "stream",
       "stream": "stdout",
       "text": [
        "* "
       ]
      },
      {
       "output_type": "stream",
       "stream": "stdout",
       "text": [
        "* "
       ]
      },
      {
       "output_type": "stream",
       "stream": "stdout",
       "text": [
        "* "
       ]
      },
      {
       "output_type": "stream",
       "stream": "stdout",
       "text": [
        "* "
       ]
      },
      {
       "output_type": "stream",
       "stream": "stdout",
       "text": [
        "* "
       ]
      },
      {
       "output_type": "stream",
       "stream": "stdout",
       "text": [
        "* "
       ]
      },
      {
       "output_type": "stream",
       "stream": "stdout",
       "text": [
        "* "
       ]
      },
      {
       "output_type": "stream",
       "stream": "stdout",
       "text": [
        "* "
       ]
      },
      {
       "output_type": "stream",
       "stream": "stdout",
       "text": [
        "* "
       ]
      },
      {
       "output_type": "stream",
       "stream": "stdout",
       "text": [
        "* "
       ]
      },
      {
       "output_type": "stream",
       "stream": "stdout",
       "text": [
        "\r",
        "Done!           \n",
        "Status written to /var/www/html/status.html\n"
       ]
      }
     ],
     "prompt_number": 8
    },
    {
     "cell_type": "code",
     "collapsed": false,
     "input": [
      "status_raw = GetRawStatusFrame()"
     ],
     "language": "python",
     "metadata": {},
     "outputs": [
      {
       "output_type": "stream",
       "stream": "stdout",
       "text": [
        "Got 46 Hits:\n",
        "Procssing\n",
        "* "
       ]
      },
      {
       "output_type": "stream",
       "stream": "stdout",
       "text": [
        "* "
       ]
      },
      {
       "output_type": "stream",
       "stream": "stdout",
       "text": [
        "* "
       ]
      },
      {
       "output_type": "stream",
       "stream": "stdout",
       "text": [
        "* "
       ]
      },
      {
       "output_type": "stream",
       "stream": "stdout",
       "text": [
        "* "
       ]
      },
      {
       "output_type": "stream",
       "stream": "stdout",
       "text": [
        "* "
       ]
      },
      {
       "output_type": "stream",
       "stream": "stdout",
       "text": [
        "* "
       ]
      },
      {
       "output_type": "stream",
       "stream": "stdout",
       "text": [
        "* "
       ]
      },
      {
       "output_type": "stream",
       "stream": "stdout",
       "text": [
        "* "
       ]
      },
      {
       "output_type": "stream",
       "stream": "stdout",
       "text": [
        "* "
       ]
      },
      {
       "output_type": "stream",
       "stream": "stdout",
       "text": [
        "* "
       ]
      },
      {
       "output_type": "stream",
       "stream": "stdout",
       "text": [
        "* "
       ]
      },
      {
       "output_type": "stream",
       "stream": "stdout",
       "text": [
        "* "
       ]
      },
      {
       "output_type": "stream",
       "stream": "stdout",
       "text": [
        "* "
       ]
      },
      {
       "output_type": "stream",
       "stream": "stdout",
       "text": [
        "* "
       ]
      },
      {
       "output_type": "stream",
       "stream": "stdout",
       "text": [
        "* "
       ]
      },
      {
       "output_type": "stream",
       "stream": "stdout",
       "text": [
        "* "
       ]
      },
      {
       "output_type": "stream",
       "stream": "stdout",
       "text": [
        "* "
       ]
      },
      {
       "output_type": "stream",
       "stream": "stdout",
       "text": [
        "* "
       ]
      },
      {
       "output_type": "stream",
       "stream": "stdout",
       "text": [
        "* "
       ]
      },
      {
       "output_type": "stream",
       "stream": "stdout",
       "text": [
        "* "
       ]
      },
      {
       "output_type": "stream",
       "stream": "stdout",
       "text": [
        "* "
       ]
      },
      {
       "output_type": "stream",
       "stream": "stdout",
       "text": [
        "* "
       ]
      },
      {
       "output_type": "stream",
       "stream": "stdout",
       "text": [
        "* "
       ]
      },
      {
       "output_type": "stream",
       "stream": "stdout",
       "text": [
        "* "
       ]
      },
      {
       "output_type": "stream",
       "stream": "stdout",
       "text": [
        "* "
       ]
      },
      {
       "output_type": "stream",
       "stream": "stdout",
       "text": [
        "* "
       ]
      },
      {
       "output_type": "stream",
       "stream": "stdout",
       "text": [
        "* "
       ]
      },
      {
       "output_type": "stream",
       "stream": "stdout",
       "text": [
        "* "
       ]
      },
      {
       "output_type": "stream",
       "stream": "stdout",
       "text": [
        "* "
       ]
      },
      {
       "output_type": "stream",
       "stream": "stdout",
       "text": [
        "* "
       ]
      },
      {
       "output_type": "stream",
       "stream": "stdout",
       "text": [
        "* "
       ]
      },
      {
       "output_type": "stream",
       "stream": "stdout",
       "text": [
        "* "
       ]
      },
      {
       "output_type": "stream",
       "stream": "stdout",
       "text": [
        "* "
       ]
      },
      {
       "output_type": "stream",
       "stream": "stdout",
       "text": [
        "* "
       ]
      },
      {
       "output_type": "stream",
       "stream": "stdout",
       "text": [
        "* "
       ]
      },
      {
       "output_type": "stream",
       "stream": "stdout",
       "text": [
        "* "
       ]
      },
      {
       "output_type": "stream",
       "stream": "stdout",
       "text": [
        "* "
       ]
      },
      {
       "output_type": "stream",
       "stream": "stdout",
       "text": [
        "* "
       ]
      },
      {
       "output_type": "stream",
       "stream": "stdout",
       "text": [
        "* "
       ]
      },
      {
       "output_type": "stream",
       "stream": "stdout",
       "text": [
        "* "
       ]
      },
      {
       "output_type": "stream",
       "stream": "stdout",
       "text": [
        "* "
       ]
      },
      {
       "output_type": "stream",
       "stream": "stdout",
       "text": [
        "* "
       ]
      },
      {
       "output_type": "stream",
       "stream": "stdout",
       "text": [
        "* "
       ]
      },
      {
       "output_type": "stream",
       "stream": "stdout",
       "text": [
        "* "
       ]
      },
      {
       "output_type": "stream",
       "stream": "stdout",
       "text": [
        "* "
       ]
      },
      {
       "output_type": "stream",
       "stream": "stdout",
       "text": [
        "\r",
        "Done!           \n"
       ]
      }
     ],
     "prompt_number": 22
    },
    {
     "cell_type": "code",
     "collapsed": false,
     "input": [
      "status = FormatStatusFrame(status_raw.sort(\"LogLag\"))"
     ],
     "language": "python",
     "metadata": {},
     "outputs": [],
     "prompt_number": 23
    },
    {
     "cell_type": "code",
     "collapsed": false,
     "input": [
      "status\n",
      "\n"
     ],
     "language": "python",
     "metadata": {},
     "outputs": [
      {
       "html": [
        "<div style=\"max-height:1000px;max-width:1500px;overflow:auto;\">\n",
        "<table border=\"1\" class=\"dataframe\">\n",
        "  <thead>\n",
        "    <tr style=\"text-align: right;\">\n",
        "      <th></th>\n",
        "      <th>OpID</th>\n",
        "      <th>LogStart</th>\n",
        "      <th>LogStop</th>\n",
        "      <th>ProdStart</th>\n",
        "      <th>ProdStop</th>\n",
        "      <th>LogLag</th>\n",
        "      <th>ProdLag</th>\n",
        "    </tr>\n",
        "    <tr>\n",
        "      <th>Sites</th>\n",
        "      <th></th>\n",
        "      <th></th>\n",
        "      <th></th>\n",
        "      <th></th>\n",
        "      <th></th>\n",
        "      <th></th>\n",
        "      <th></th>\n",
        "    </tr>\n",
        "  </thead>\n",
        "  <tbody>\n",
        "    <tr>\n",
        "      <th>ed214e2a-9679-11e4-b100-123b93f75cba</th>\n",
        "      <td> b22</td>\n",
        "      <td> 2014-11-25 00:00:00</td>\n",
        "      <td> 2015-01-08 08:50:00</td>\n",
        "      <td> 2014-11-25 00:00:00</td>\n",
        "      <td> 2015-01-07 14:30:00</td>\n",
        "      <td>     0 h 8 min 54 s</td>\n",
        "      <td>   18 h 28 min 54 s</td>\n",
        "    </tr>\n",
        "    <tr>\n",
        "      <th>ed21b360-9679-11e4-b100-123b93f75cba</th>\n",
        "      <td> b26</td>\n",
        "      <td> 2014-11-25 00:00:00</td>\n",
        "      <td> 2015-01-08 08:40:00</td>\n",
        "      <td> 2014-11-25 00:00:00</td>\n",
        "      <td> 2015-01-07 13:10:00</td>\n",
        "      <td>    0 h 18 min 54 s</td>\n",
        "      <td>   19 h 48 min 54 s</td>\n",
        "    </tr>\n",
        "    <tr>\n",
        "      <th>ed21b4e6-9679-11e4-b100-123b93f75cba</th>\n",
        "      <td> b27</td>\n",
        "      <td> 2014-11-25 00:00:00</td>\n",
        "      <td> 2015-01-08 08:40:00</td>\n",
        "      <td> 2014-11-25 00:00:00</td>\n",
        "      <td> 2015-01-06 03:00:00</td>\n",
        "      <td>    0 h 18 min 54 s</td>\n",
        "      <td>   53 h 58 min 54 s</td>\n",
        "    </tr>\n",
        "    <tr>\n",
        "      <th>ed214bdc-9679-11e4-b100-123b93f75cba</th>\n",
        "      <td> b21</td>\n",
        "      <td> 2014-11-25 00:00:00</td>\n",
        "      <td> 2015-01-08 08:40:00</td>\n",
        "      <td> 2014-11-25 00:00:00</td>\n",
        "      <td> 2015-01-07 13:30:00</td>\n",
        "      <td>    0 h 18 min 54 s</td>\n",
        "      <td>   19 h 28 min 54 s</td>\n",
        "    </tr>\n",
        "    <tr>\n",
        "      <th>ed2145ce-9679-11e4-b100-123b93f75cba</th>\n",
        "      <td> k01</td>\n",
        "      <td> 2014-11-15 01:00:00</td>\n",
        "      <td> 2015-01-08 08:40:00</td>\n",
        "      <td> 2014-11-15 01:00:00</td>\n",
        "      <td> 2015-01-08 08:40:00</td>\n",
        "      <td>    0 h 18 min 54 s</td>\n",
        "      <td>    0 h 18 min 54 s</td>\n",
        "    </tr>\n",
        "    <tr>\n",
        "      <th>ed21b1e4-9679-11e4-b100-123b93f75cba</th>\n",
        "      <td> b25</td>\n",
        "      <td> 2014-11-25 00:00:00</td>\n",
        "      <td> 2015-01-08 08:40:00</td>\n",
        "      <td> 2014-11-25 00:00:00</td>\n",
        "      <td> 2015-01-07 13:20:00</td>\n",
        "      <td>    0 h 18 min 54 s</td>\n",
        "      <td>   19 h 38 min 54 s</td>\n",
        "    </tr>\n",
        "    <tr>\n",
        "      <th>ed21b7fc-9679-11e4-b100-123b93f75cba</th>\n",
        "      <td> b29</td>\n",
        "      <td> 2014-11-25 00:00:00</td>\n",
        "      <td> 2015-01-08 08:40:00</td>\n",
        "      <td> 2014-11-25 00:00:00</td>\n",
        "      <td> 2015-01-07 13:20:00</td>\n",
        "      <td>    0 h 18 min 54 s</td>\n",
        "      <td>   19 h 38 min 54 s</td>\n",
        "    </tr>\n",
        "    <tr>\n",
        "      <th>ed2149d4-9679-11e4-b100-123b93f75cba</th>\n",
        "      <td> b20</td>\n",
        "      <td> 2014-11-25 00:00:00</td>\n",
        "      <td> 2015-01-08 08:40:00</td>\n",
        "      <td> 2014-11-25 00:00:00</td>\n",
        "      <td> 2015-01-07 13:10:00</td>\n",
        "      <td>    0 h 18 min 54 s</td>\n",
        "      <td>   19 h 48 min 54 s</td>\n",
        "    </tr>\n",
        "    <tr>\n",
        "      <th>ed21b040-9679-11e4-b100-123b93f75cba</th>\n",
        "      <td> b23</td>\n",
        "      <td> 2014-11-28 01:00:00</td>\n",
        "      <td> 2015-01-08 08:40:00</td>\n",
        "      <td> 2014-11-28 01:00:00</td>\n",
        "      <td> 2015-01-07 14:30:00</td>\n",
        "      <td>    0 h 18 min 54 s</td>\n",
        "      <td>   18 h 28 min 54 s</td>\n",
        "    </tr>\n",
        "    <tr>\n",
        "      <th>ed21ae9c-9679-11e4-b100-123b93f75cba</th>\n",
        "      <td> b24</td>\n",
        "      <td> 2014-11-24 00:00:00</td>\n",
        "      <td> 2015-01-08 08:10:00</td>\n",
        "      <td> 2014-11-24 00:00:00</td>\n",
        "      <td> 2015-01-08 08:00:00</td>\n",
        "      <td>    0 h 48 min 54 s</td>\n",
        "      <td>    0 h 58 min 54 s</td>\n",
        "    </tr>\n",
        "    <tr>\n",
        "      <th>79ea7d0e-1da8-11e4-a510-f23c9173ce4a</th>\n",
        "      <td> b09</td>\n",
        "      <td> 2014-06-09 00:00:00</td>\n",
        "      <td> 2015-01-07 17:20:00</td>\n",
        "      <td> 2014-06-09 03:20:00</td>\n",
        "      <td> 2015-01-07 14:40:00</td>\n",
        "      <td>   15 h 38 min 54 s</td>\n",
        "      <td>   18 h 18 min 54 s</td>\n",
        "    </tr>\n",
        "    <tr>\n",
        "      <th>916b6e8e-1da8-11e4-a510-f23c9173ce4a</th>\n",
        "      <td> b12</td>\n",
        "      <td> 2014-06-12 09:00:00</td>\n",
        "      <td> 2015-01-07 17:20:00</td>\n",
        "      <td> 2014-06-12 09:10:00</td>\n",
        "      <td> 2015-01-07 14:50:00</td>\n",
        "      <td>   15 h 38 min 54 s</td>\n",
        "      <td>    18 h 8 min 54 s</td>\n",
        "    </tr>\n",
        "    <tr>\n",
        "      <th>709e47a1-ca88-4c22-890f-2407e9cb131a</th>\n",
        "      <td> f06</td>\n",
        "      <td> 2014-04-08 06:10:00</td>\n",
        "      <td> 2015-01-07 15:50:00</td>\n",
        "      <td> 2014-04-08 06:10:00</td>\n",
        "      <td> 2015-01-07 13:20:00</td>\n",
        "      <td>    17 h 8 min 54 s</td>\n",
        "      <td>   19 h 38 min 54 s</td>\n",
        "    </tr>\n",
        "    <tr>\n",
        "      <th>7f3c36b0-44a6-11e4-916c-0800200c9a66</th>\n",
        "      <td> b16</td>\n",
        "      <td> 2014-07-01 00:00:00</td>\n",
        "      <td> 2015-01-07 15:50:00</td>\n",
        "      <td> 2014-07-01 03:20:00</td>\n",
        "      <td> 2015-01-07 14:10:00</td>\n",
        "      <td>    17 h 8 min 54 s</td>\n",
        "      <td>   18 h 48 min 54 s</td>\n",
        "    </tr>\n",
        "    <tr>\n",
        "      <th>b0dd71a8-efe8-41eb-bab1-633ebaaa778c</th>\n",
        "      <td> f07</td>\n",
        "      <td> 2014-04-10 10:30:00</td>\n",
        "      <td> 2015-01-07 15:50:00</td>\n",
        "      <td> 2014-04-10 10:30:00</td>\n",
        "      <td> 2015-01-07 13:40:00</td>\n",
        "      <td>    17 h 8 min 54 s</td>\n",
        "      <td>   19 h 18 min 54 s</td>\n",
        "    </tr>\n",
        "    <tr>\n",
        "      <th>e93dc809-3491-11e4-8c21-0800200c9a66</th>\n",
        "      <td> b18</td>\n",
        "      <td> 2014-07-06 08:00:00</td>\n",
        "      <td> 2015-01-07 15:40:00</td>\n",
        "      <td> 2014-07-06 08:10:00</td>\n",
        "      <td> 2015-01-07 14:40:00</td>\n",
        "      <td>   17 h 18 min 54 s</td>\n",
        "      <td>   18 h 18 min 54 s</td>\n",
        "    </tr>\n",
        "    <tr>\n",
        "      <th>4cf6c743-8d0b-45f0-aa72-8a0c10315cf5</th>\n",
        "      <td> f09</td>\n",
        "      <td> 2014-03-26 05:30:00</td>\n",
        "      <td> 2015-01-07 15:40:00</td>\n",
        "      <td> 2014-03-26 05:30:00</td>\n",
        "      <td> 2015-01-07 13:20:00</td>\n",
        "      <td>   17 h 18 min 54 s</td>\n",
        "      <td>   19 h 38 min 54 s</td>\n",
        "    </tr>\n",
        "    <tr>\n",
        "      <th>845e5e54-1da8-11e4-a510-f23c9173ce4a</th>\n",
        "      <td> b10</td>\n",
        "      <td> 2014-06-11 17:20:00</td>\n",
        "      <td> 2015-01-07 15:40:00</td>\n",
        "      <td> 2014-06-11 17:30:00</td>\n",
        "      <td> 2015-01-07 14:10:00</td>\n",
        "      <td>   17 h 18 min 54 s</td>\n",
        "      <td>   18 h 48 min 54 s</td>\n",
        "    </tr>\n",
        "    <tr>\n",
        "      <th>8b28b202-1da8-11e4-a510-f23c9173ce4a</th>\n",
        "      <td> b11</td>\n",
        "      <td> 2014-06-11 19:10:00</td>\n",
        "      <td> 2015-01-07 15:40:00</td>\n",
        "      <td> 2014-06-11 19:20:00</td>\n",
        "      <td> 2015-01-07 13:50:00</td>\n",
        "      <td>   17 h 18 min 54 s</td>\n",
        "      <td>    19 h 8 min 54 s</td>\n",
        "    </tr>\n",
        "    <tr>\n",
        "      <th>71b0e5ec-1da8-11e4-a510-f23c9173ce4a</th>\n",
        "      <td> b08</td>\n",
        "      <td> 2014-06-09 17:00:00</td>\n",
        "      <td> 2015-01-07 15:40:00</td>\n",
        "      <td> 2014-06-09 17:20:00</td>\n",
        "      <td> 2015-01-07 14:40:00</td>\n",
        "      <td>   17 h 18 min 54 s</td>\n",
        "      <td>   18 h 18 min 54 s</td>\n",
        "    </tr>\n",
        "    <tr>\n",
        "      <th>7445f840-44a6-11e4-916c-0800200c9a66</th>\n",
        "      <td> b15</td>\n",
        "      <td> 2014-07-02 14:10:00</td>\n",
        "      <td> 2015-01-07 15:40:00</td>\n",
        "      <td> 2014-07-02 14:50:00</td>\n",
        "      <td> 2015-01-07 13:20:00</td>\n",
        "      <td>   17 h 18 min 54 s</td>\n",
        "      <td>   19 h 38 min 54 s</td>\n",
        "    </tr>\n",
        "    <tr>\n",
        "      <th>6f075b69-b823-4e6b-8021-dd751cc79eea</th>\n",
        "      <td> b03</td>\n",
        "      <td> 2014-03-05 12:30:00</td>\n",
        "      <td> 2015-01-07 15:20:00</td>\n",
        "      <td> 2014-03-05 12:30:00</td>\n",
        "      <td> 2015-01-07 13:20:00</td>\n",
        "      <td>   17 h 38 min 54 s</td>\n",
        "      <td>   19 h 38 min 54 s</td>\n",
        "    </tr>\n",
        "    <tr>\n",
        "      <th>32383bde-7648-4abe-9dac-44701eabd72f</th>\n",
        "      <td> f04</td>\n",
        "      <td> 2014-04-09 06:10:00</td>\n",
        "      <td> 2015-01-07 15:20:00</td>\n",
        "      <td> 2014-04-09 06:10:00</td>\n",
        "      <td> 2015-01-07 13:20:00</td>\n",
        "      <td>   17 h 38 min 54 s</td>\n",
        "      <td>   19 h 38 min 54 s</td>\n",
        "    </tr>\n",
        "    <tr>\n",
        "      <th>e8a13982-f651-11e3-a510-f23c9173ce4a</th>\n",
        "      <td> f11</td>\n",
        "      <td> 2014-04-07 06:00:00</td>\n",
        "      <td> 2015-01-07 15:20:00</td>\n",
        "      <td> 2014-04-07 06:00:00</td>\n",
        "      <td> 2015-01-07 13:50:00</td>\n",
        "      <td>   17 h 38 min 54 s</td>\n",
        "      <td>    19 h 8 min 54 s</td>\n",
        "    </tr>\n",
        "    <tr>\n",
        "      <th>4a39b124-f594-11e3-a510-f23c9173ce4a</th>\n",
        "      <td> b02</td>\n",
        "      <td> 2014-06-06 03:30:00</td>\n",
        "      <td> 2015-01-07 15:20:00</td>\n",
        "      <td> 2014-06-06 03:30:00</td>\n",
        "      <td> 2015-01-07 13:20:00</td>\n",
        "      <td>   17 h 38 min 54 s</td>\n",
        "      <td>   19 h 38 min 54 s</td>\n",
        "    </tr>\n",
        "    <tr>\n",
        "      <th>2a31fb24-347b-4924-ab89-5c434771a2ae</th>\n",
        "      <td> b06</td>\n",
        "      <td> 2014-03-05 17:00:00</td>\n",
        "      <td> 2015-01-07 15:00:00</td>\n",
        "      <td> 2014-03-05 17:00:00</td>\n",
        "      <td> 2015-01-07 13:20:00</td>\n",
        "      <td>   17 h 58 min 54 s</td>\n",
        "      <td>   19 h 38 min 54 s</td>\n",
        "    </tr>\n",
        "    <tr>\n",
        "      <th>f1136e33-d227-4fbd-ae72-d3488d70ba89</th>\n",
        "      <td> b01</td>\n",
        "      <td> 2014-03-06 08:10:00</td>\n",
        "      <td> 2015-01-07 15:00:00</td>\n",
        "      <td> 2014-03-06 08:10:00</td>\n",
        "      <td> 2015-01-07 12:50:00</td>\n",
        "      <td>   17 h 58 min 54 s</td>\n",
        "      <td>    20 h 8 min 54 s</td>\n",
        "    </tr>\n",
        "    <tr>\n",
        "      <th>802afb51-c5eb-4230-9b22-9a77ef7260b3</th>\n",
        "      <td> b05</td>\n",
        "      <td> 2014-03-05 16:30:00</td>\n",
        "      <td> 2015-01-07 15:00:00</td>\n",
        "      <td> 2014-03-05 16:30:00</td>\n",
        "      <td> 2015-01-07 13:20:00</td>\n",
        "      <td>   17 h 58 min 54 s</td>\n",
        "      <td>   19 h 38 min 54 s</td>\n",
        "    </tr>\n",
        "    <tr>\n",
        "      <th>46d55815-f927-459f-a8e2-8bbcd88008ee</th>\n",
        "      <td> h00</td>\n",
        "      <td> 2013-10-16 07:20:00</td>\n",
        "      <td> 2015-01-07 14:40:00</td>\n",
        "      <td> 2013-10-16 07:20:00</td>\n",
        "      <td> 2015-01-07 14:10:00</td>\n",
        "      <td>   18 h 18 min 54 s</td>\n",
        "      <td>   18 h 48 min 54 s</td>\n",
        "    </tr>\n",
        "    <tr>\n",
        "      <th>c6261166-f651-11e3-a510-f23c9173ce4a</th>\n",
        "      <td> f10</td>\n",
        "      <td> 2014-04-07 06:00:00</td>\n",
        "      <td> 2015-01-07 11:40:00</td>\n",
        "      <td> 2014-04-07 06:00:00</td>\n",
        "      <td> 2015-01-07 11:40:00</td>\n",
        "      <td>   21 h 18 min 54 s</td>\n",
        "      <td>   21 h 18 min 54 s</td>\n",
        "    </tr>\n",
        "    <tr>\n",
        "      <th>aa3695b0-967a-11e4-b100-123b93f75cba</th>\n",
        "      <td> f14</td>\n",
        "      <td> 2014-11-25 13:30:00</td>\n",
        "      <td> 2014-12-29 10:00:00</td>\n",
        "      <td> 2014-11-25 13:30:00</td>\n",
        "      <td> 2014-12-23 07:00:00</td>\n",
        "      <td>  238 h 58 min 54 s</td>\n",
        "      <td>  385 h 58 min 54 s</td>\n",
        "    </tr>\n",
        "    <tr>\n",
        "      <th>aa36a136-967a-11e4-b100-123b93f75cba</th>\n",
        "      <td> f21</td>\n",
        "      <td> 2014-11-25 10:00:00</td>\n",
        "      <td> 2014-12-29 10:00:00</td>\n",
        "      <td> 2014-11-25 10:00:00</td>\n",
        "      <td> 2014-12-28 14:30:00</td>\n",
        "      <td>  238 h 58 min 54 s</td>\n",
        "      <td>  258 h 28 min 54 s</td>\n",
        "    </tr>\n",
        "    <tr>\n",
        "      <th>aa369b78-967a-11e4-b100-123b93f75cba</th>\n",
        "      <td> f18</td>\n",
        "      <td> 2014-11-25 10:00:00</td>\n",
        "      <td> 2014-12-29 10:00:00</td>\n",
        "      <td> 2014-11-25 10:00:00</td>\n",
        "      <td> 2014-12-28 14:50:00</td>\n",
        "      <td>  238 h 58 min 54 s</td>\n",
        "      <td>   258 h 8 min 54 s</td>\n",
        "    </tr>\n",
        "    <tr>\n",
        "      <th>aa369330-967a-11e4-b100-123b93f75cba</th>\n",
        "      <td> f13</td>\n",
        "      <td> 2014-11-25 13:30:00</td>\n",
        "      <td> 2014-12-29 10:00:00</td>\n",
        "      <td> 2014-11-25 13:30:00</td>\n",
        "      <td> 2014-12-28 14:10:00</td>\n",
        "      <td>  238 h 58 min 54 s</td>\n",
        "      <td>  258 h 48 min 54 s</td>\n",
        "    </tr>\n",
        "    <tr>\n",
        "      <th>aa369fd8-967a-11e4-b100-123b93f75cba</th>\n",
        "      <td> f19</td>\n",
        "      <td> 2014-11-25 10:00:00</td>\n",
        "      <td> 2014-12-29 10:00:00</td>\n",
        "      <td> 2014-11-25 10:00:00</td>\n",
        "      <td> 2014-12-28 14:40:00</td>\n",
        "      <td>  238 h 58 min 54 s</td>\n",
        "      <td>  258 h 18 min 54 s</td>\n",
        "    </tr>\n",
        "    <tr>\n",
        "      <th>aa369a4c-967a-11e4-b100-123b93f75cba</th>\n",
        "      <td> f17</td>\n",
        "      <td> 2014-11-25 10:00:00</td>\n",
        "      <td> 2014-12-29 10:00:00</td>\n",
        "      <td> 2014-11-25 10:00:00</td>\n",
        "      <td> 2014-12-27 10:50:00</td>\n",
        "      <td>  238 h 58 min 54 s</td>\n",
        "      <td>   286 h 8 min 54 s</td>\n",
        "    </tr>\n",
        "    <tr>\n",
        "      <th>aa369920-967a-11e4-b100-123b93f75cba</th>\n",
        "      <td> f16</td>\n",
        "      <td> 2014-11-25 10:00:00</td>\n",
        "      <td> 2014-12-29 10:00:00</td>\n",
        "      <td> 2014-11-25 10:00:00</td>\n",
        "      <td> 2014-12-28 14:20:00</td>\n",
        "      <td>  238 h 58 min 54 s</td>\n",
        "      <td>  258 h 38 min 54 s</td>\n",
        "    </tr>\n",
        "    <tr>\n",
        "      <th>aa3697b8-967a-11e4-b100-123b93f75cba</th>\n",
        "      <td> f15</td>\n",
        "      <td> 2014-11-25 13:30:00</td>\n",
        "      <td> 2014-12-29 10:00:00</td>\n",
        "      <td> 2014-11-25 13:30:00</td>\n",
        "      <td> 2014-12-28 14:50:00</td>\n",
        "      <td>  238 h 58 min 54 s</td>\n",
        "      <td>   258 h 8 min 54 s</td>\n",
        "    </tr>\n",
        "    <tr>\n",
        "      <th>aa36a5a0-967a-11e4-b100-123b93f75cba</th>\n",
        "      <td> f20</td>\n",
        "      <td> 2014-11-25 10:00:00</td>\n",
        "      <td> 2014-12-29 10:00:00</td>\n",
        "      <td> 2014-11-25 10:00:00</td>\n",
        "      <td> 2014-12-28 14:40:00</td>\n",
        "      <td>  238 h 58 min 54 s</td>\n",
        "      <td>  258 h 18 min 54 s</td>\n",
        "    </tr>\n",
        "    <tr>\n",
        "      <th>aa36a348-967a-11e4-b100-123b93f75cba</th>\n",
        "      <td> f22</td>\n",
        "      <td> 2014-11-25 01:00:00</td>\n",
        "      <td> 2014-12-29 10:00:00</td>\n",
        "      <td> 2014-11-25 01:00:00</td>\n",
        "      <td> 2014-12-28 14:40:00</td>\n",
        "      <td>  238 h 58 min 54 s</td>\n",
        "      <td>  258 h 18 min 54 s</td>\n",
        "    </tr>\n",
        "    <tr>\n",
        "      <th>aa368f3e-967a-11e4-b100-123b93f75cba</th>\n",
        "      <td> f12</td>\n",
        "      <td> 2014-11-25 13:30:00</td>\n",
        "      <td> 2014-12-29 10:00:00</td>\n",
        "      <td> 2014-11-25 13:30:00</td>\n",
        "      <td> 2014-12-23 07:00:00</td>\n",
        "      <td>  238 h 58 min 54 s</td>\n",
        "      <td>  385 h 58 min 54 s</td>\n",
        "    </tr>\n",
        "    <tr>\n",
        "      <th>ed21b6d0-9679-11e4-b100-123b93f75cba</th>\n",
        "      <td> b28</td>\n",
        "      <td> 2014-11-24 14:00:00</td>\n",
        "      <td> 2014-12-12 00:00:00</td>\n",
        "      <td> 2014-11-24 14:00:00</td>\n",
        "      <td> 2014-12-11 23:00:00</td>\n",
        "      <td>  656 h 58 min 54 s</td>\n",
        "      <td>  657 h 58 min 54 s</td>\n",
        "    </tr>\n",
        "    <tr>\n",
        "      <th>d9c86a10-3491-11e4-8c21-0800200c9a66</th>\n",
        "      <td> b17</td>\n",
        "      <td> 2014-07-02 10:00:00</td>\n",
        "      <td> 2014-12-09 12:30:00</td>\n",
        "      <td> 2014-07-02 10:10:00</td>\n",
        "      <td> 2014-12-09 12:30:00</td>\n",
        "      <td>  716 h 28 min 54 s</td>\n",
        "      <td>  716 h 28 min 54 s</td>\n",
        "    </tr>\n",
        "    <tr>\n",
        "      <th>beeb4730-3491-11e4-8c21-0800200c9a66</th>\n",
        "      <td> b14</td>\n",
        "      <td> 2014-07-02 11:00:00</td>\n",
        "      <td> 2014-12-09 12:30:00</td>\n",
        "      <td> 2014-07-02 11:10:00</td>\n",
        "      <td> 2014-12-09 12:30:00</td>\n",
        "      <td>  716 h 28 min 54 s</td>\n",
        "      <td>  716 h 28 min 54 s</td>\n",
        "    </tr>\n",
        "    <tr>\n",
        "      <th>f22857f0-3491-11e4-8c21-0800200c9a66</th>\n",
        "      <td> b19</td>\n",
        "      <td> 2014-07-01 19:00:00</td>\n",
        "      <td> 2014-12-08 14:20:00</td>\n",
        "      <td> 2014-07-01 19:10:00</td>\n",
        "      <td> 2014-12-08 14:20:00</td>\n",
        "      <td>  738 h 38 min 54 s</td>\n",
        "      <td>  738 h 38 min 54 s</td>\n",
        "    </tr>\n",
        "    <tr>\n",
        "      <th>face0d13-b22d-48fe-bec1-d29732604133</th>\n",
        "      <td> f05</td>\n",
        "      <td> 2014-04-08 06:10:00</td>\n",
        "      <td> 2014-09-30 09:20:00</td>\n",
        "      <td> 2014-04-08 06:10:00</td>\n",
        "      <td> 2014-09-30 01:30:00</td>\n",
        "      <td> 2400 h 38 min 54 s</td>\n",
        "      <td> 2408 h 28 min 54 s</td>\n",
        "    </tr>\n",
        "  </tbody>\n",
        "</table>\n",
        "</div>"
       ],
       "metadata": {},
       "output_type": "pyout",
       "prompt_number": 123,
       "text": [
        "                                     OpID             LogStart  \\\n",
        "Sites                                                            \n",
        "ed214e2a-9679-11e4-b100-123b93f75cba  b22  2014-11-25 00:00:00   \n",
        "ed21b360-9679-11e4-b100-123b93f75cba  b26  2014-11-25 00:00:00   \n",
        "ed21b4e6-9679-11e4-b100-123b93f75cba  b27  2014-11-25 00:00:00   \n",
        "ed214bdc-9679-11e4-b100-123b93f75cba  b21  2014-11-25 00:00:00   \n",
        "ed2145ce-9679-11e4-b100-123b93f75cba  k01  2014-11-15 01:00:00   \n",
        "ed21b1e4-9679-11e4-b100-123b93f75cba  b25  2014-11-25 00:00:00   \n",
        "ed21b7fc-9679-11e4-b100-123b93f75cba  b29  2014-11-25 00:00:00   \n",
        "ed2149d4-9679-11e4-b100-123b93f75cba  b20  2014-11-25 00:00:00   \n",
        "ed21b040-9679-11e4-b100-123b93f75cba  b23  2014-11-28 01:00:00   \n",
        "ed21ae9c-9679-11e4-b100-123b93f75cba  b24  2014-11-24 00:00:00   \n",
        "79ea7d0e-1da8-11e4-a510-f23c9173ce4a  b09  2014-06-09 00:00:00   \n",
        "916b6e8e-1da8-11e4-a510-f23c9173ce4a  b12  2014-06-12 09:00:00   \n",
        "709e47a1-ca88-4c22-890f-2407e9cb131a  f06  2014-04-08 06:10:00   \n",
        "7f3c36b0-44a6-11e4-916c-0800200c9a66  b16  2014-07-01 00:00:00   \n",
        "b0dd71a8-efe8-41eb-bab1-633ebaaa778c  f07  2014-04-10 10:30:00   \n",
        "e93dc809-3491-11e4-8c21-0800200c9a66  b18  2014-07-06 08:00:00   \n",
        "4cf6c743-8d0b-45f0-aa72-8a0c10315cf5  f09  2014-03-26 05:30:00   \n",
        "845e5e54-1da8-11e4-a510-f23c9173ce4a  b10  2014-06-11 17:20:00   \n",
        "8b28b202-1da8-11e4-a510-f23c9173ce4a  b11  2014-06-11 19:10:00   \n",
        "71b0e5ec-1da8-11e4-a510-f23c9173ce4a  b08  2014-06-09 17:00:00   \n",
        "7445f840-44a6-11e4-916c-0800200c9a66  b15  2014-07-02 14:10:00   \n",
        "6f075b69-b823-4e6b-8021-dd751cc79eea  b03  2014-03-05 12:30:00   \n",
        "32383bde-7648-4abe-9dac-44701eabd72f  f04  2014-04-09 06:10:00   \n",
        "e8a13982-f651-11e3-a510-f23c9173ce4a  f11  2014-04-07 06:00:00   \n",
        "4a39b124-f594-11e3-a510-f23c9173ce4a  b02  2014-06-06 03:30:00   \n",
        "2a31fb24-347b-4924-ab89-5c434771a2ae  b06  2014-03-05 17:00:00   \n",
        "f1136e33-d227-4fbd-ae72-d3488d70ba89  b01  2014-03-06 08:10:00   \n",
        "802afb51-c5eb-4230-9b22-9a77ef7260b3  b05  2014-03-05 16:30:00   \n",
        "46d55815-f927-459f-a8e2-8bbcd88008ee  h00  2013-10-16 07:20:00   \n",
        "c6261166-f651-11e3-a510-f23c9173ce4a  f10  2014-04-07 06:00:00   \n",
        "aa3695b0-967a-11e4-b100-123b93f75cba  f14  2014-11-25 13:30:00   \n",
        "aa36a136-967a-11e4-b100-123b93f75cba  f21  2014-11-25 10:00:00   \n",
        "aa369b78-967a-11e4-b100-123b93f75cba  f18  2014-11-25 10:00:00   \n",
        "aa369330-967a-11e4-b100-123b93f75cba  f13  2014-11-25 13:30:00   \n",
        "aa369fd8-967a-11e4-b100-123b93f75cba  f19  2014-11-25 10:00:00   \n",
        "aa369a4c-967a-11e4-b100-123b93f75cba  f17  2014-11-25 10:00:00   \n",
        "aa369920-967a-11e4-b100-123b93f75cba  f16  2014-11-25 10:00:00   \n",
        "aa3697b8-967a-11e4-b100-123b93f75cba  f15  2014-11-25 13:30:00   \n",
        "aa36a5a0-967a-11e4-b100-123b93f75cba  f20  2014-11-25 10:00:00   \n",
        "aa36a348-967a-11e4-b100-123b93f75cba  f22  2014-11-25 01:00:00   \n",
        "aa368f3e-967a-11e4-b100-123b93f75cba  f12  2014-11-25 13:30:00   \n",
        "ed21b6d0-9679-11e4-b100-123b93f75cba  b28  2014-11-24 14:00:00   \n",
        "d9c86a10-3491-11e4-8c21-0800200c9a66  b17  2014-07-02 10:00:00   \n",
        "beeb4730-3491-11e4-8c21-0800200c9a66  b14  2014-07-02 11:00:00   \n",
        "f22857f0-3491-11e4-8c21-0800200c9a66  b19  2014-07-01 19:00:00   \n",
        "face0d13-b22d-48fe-bec1-d29732604133  f05  2014-04-08 06:10:00   \n",
        "\n",
        "                                                  LogStop  \\\n",
        "Sites                                                       \n",
        "ed214e2a-9679-11e4-b100-123b93f75cba  2015-01-08 08:50:00   \n",
        "ed21b360-9679-11e4-b100-123b93f75cba  2015-01-08 08:40:00   \n",
        "ed21b4e6-9679-11e4-b100-123b93f75cba  2015-01-08 08:40:00   \n",
        "ed214bdc-9679-11e4-b100-123b93f75cba  2015-01-08 08:40:00   \n",
        "ed2145ce-9679-11e4-b100-123b93f75cba  2015-01-08 08:40:00   \n",
        "ed21b1e4-9679-11e4-b100-123b93f75cba  2015-01-08 08:40:00   \n",
        "ed21b7fc-9679-11e4-b100-123b93f75cba  2015-01-08 08:40:00   \n",
        "ed2149d4-9679-11e4-b100-123b93f75cba  2015-01-08 08:40:00   \n",
        "ed21b040-9679-11e4-b100-123b93f75cba  2015-01-08 08:40:00   \n",
        "ed21ae9c-9679-11e4-b100-123b93f75cba  2015-01-08 08:10:00   \n",
        "79ea7d0e-1da8-11e4-a510-f23c9173ce4a  2015-01-07 17:20:00   \n",
        "916b6e8e-1da8-11e4-a510-f23c9173ce4a  2015-01-07 17:20:00   \n",
        "709e47a1-ca88-4c22-890f-2407e9cb131a  2015-01-07 15:50:00   \n",
        "7f3c36b0-44a6-11e4-916c-0800200c9a66  2015-01-07 15:50:00   \n",
        "b0dd71a8-efe8-41eb-bab1-633ebaaa778c  2015-01-07 15:50:00   \n",
        "e93dc809-3491-11e4-8c21-0800200c9a66  2015-01-07 15:40:00   \n",
        "4cf6c743-8d0b-45f0-aa72-8a0c10315cf5  2015-01-07 15:40:00   \n",
        "845e5e54-1da8-11e4-a510-f23c9173ce4a  2015-01-07 15:40:00   \n",
        "8b28b202-1da8-11e4-a510-f23c9173ce4a  2015-01-07 15:40:00   \n",
        "71b0e5ec-1da8-11e4-a510-f23c9173ce4a  2015-01-07 15:40:00   \n",
        "7445f840-44a6-11e4-916c-0800200c9a66  2015-01-07 15:40:00   \n",
        "6f075b69-b823-4e6b-8021-dd751cc79eea  2015-01-07 15:20:00   \n",
        "32383bde-7648-4abe-9dac-44701eabd72f  2015-01-07 15:20:00   \n",
        "e8a13982-f651-11e3-a510-f23c9173ce4a  2015-01-07 15:20:00   \n",
        "4a39b124-f594-11e3-a510-f23c9173ce4a  2015-01-07 15:20:00   \n",
        "2a31fb24-347b-4924-ab89-5c434771a2ae  2015-01-07 15:00:00   \n",
        "f1136e33-d227-4fbd-ae72-d3488d70ba89  2015-01-07 15:00:00   \n",
        "802afb51-c5eb-4230-9b22-9a77ef7260b3  2015-01-07 15:00:00   \n",
        "46d55815-f927-459f-a8e2-8bbcd88008ee  2015-01-07 14:40:00   \n",
        "c6261166-f651-11e3-a510-f23c9173ce4a  2015-01-07 11:40:00   \n",
        "aa3695b0-967a-11e4-b100-123b93f75cba  2014-12-29 10:00:00   \n",
        "aa36a136-967a-11e4-b100-123b93f75cba  2014-12-29 10:00:00   \n",
        "aa369b78-967a-11e4-b100-123b93f75cba  2014-12-29 10:00:00   \n",
        "aa369330-967a-11e4-b100-123b93f75cba  2014-12-29 10:00:00   \n",
        "aa369fd8-967a-11e4-b100-123b93f75cba  2014-12-29 10:00:00   \n",
        "aa369a4c-967a-11e4-b100-123b93f75cba  2014-12-29 10:00:00   \n",
        "aa369920-967a-11e4-b100-123b93f75cba  2014-12-29 10:00:00   \n",
        "aa3697b8-967a-11e4-b100-123b93f75cba  2014-12-29 10:00:00   \n",
        "aa36a5a0-967a-11e4-b100-123b93f75cba  2014-12-29 10:00:00   \n",
        "aa36a348-967a-11e4-b100-123b93f75cba  2014-12-29 10:00:00   \n",
        "aa368f3e-967a-11e4-b100-123b93f75cba  2014-12-29 10:00:00   \n",
        "ed21b6d0-9679-11e4-b100-123b93f75cba  2014-12-12 00:00:00   \n",
        "d9c86a10-3491-11e4-8c21-0800200c9a66  2014-12-09 12:30:00   \n",
        "beeb4730-3491-11e4-8c21-0800200c9a66  2014-12-09 12:30:00   \n",
        "f22857f0-3491-11e4-8c21-0800200c9a66  2014-12-08 14:20:00   \n",
        "face0d13-b22d-48fe-bec1-d29732604133  2014-09-30 09:20:00   \n",
        "\n",
        "                                                ProdStart  \\\n",
        "Sites                                                       \n",
        "ed214e2a-9679-11e4-b100-123b93f75cba  2014-11-25 00:00:00   \n",
        "ed21b360-9679-11e4-b100-123b93f75cba  2014-11-25 00:00:00   \n",
        "ed21b4e6-9679-11e4-b100-123b93f75cba  2014-11-25 00:00:00   \n",
        "ed214bdc-9679-11e4-b100-123b93f75cba  2014-11-25 00:00:00   \n",
        "ed2145ce-9679-11e4-b100-123b93f75cba  2014-11-15 01:00:00   \n",
        "ed21b1e4-9679-11e4-b100-123b93f75cba  2014-11-25 00:00:00   \n",
        "ed21b7fc-9679-11e4-b100-123b93f75cba  2014-11-25 00:00:00   \n",
        "ed2149d4-9679-11e4-b100-123b93f75cba  2014-11-25 00:00:00   \n",
        "ed21b040-9679-11e4-b100-123b93f75cba  2014-11-28 01:00:00   \n",
        "ed21ae9c-9679-11e4-b100-123b93f75cba  2014-11-24 00:00:00   \n",
        "79ea7d0e-1da8-11e4-a510-f23c9173ce4a  2014-06-09 03:20:00   \n",
        "916b6e8e-1da8-11e4-a510-f23c9173ce4a  2014-06-12 09:10:00   \n",
        "709e47a1-ca88-4c22-890f-2407e9cb131a  2014-04-08 06:10:00   \n",
        "7f3c36b0-44a6-11e4-916c-0800200c9a66  2014-07-01 03:20:00   \n",
        "b0dd71a8-efe8-41eb-bab1-633ebaaa778c  2014-04-10 10:30:00   \n",
        "e93dc809-3491-11e4-8c21-0800200c9a66  2014-07-06 08:10:00   \n",
        "4cf6c743-8d0b-45f0-aa72-8a0c10315cf5  2014-03-26 05:30:00   \n",
        "845e5e54-1da8-11e4-a510-f23c9173ce4a  2014-06-11 17:30:00   \n",
        "8b28b202-1da8-11e4-a510-f23c9173ce4a  2014-06-11 19:20:00   \n",
        "71b0e5ec-1da8-11e4-a510-f23c9173ce4a  2014-06-09 17:20:00   \n",
        "7445f840-44a6-11e4-916c-0800200c9a66  2014-07-02 14:50:00   \n",
        "6f075b69-b823-4e6b-8021-dd751cc79eea  2014-03-05 12:30:00   \n",
        "32383bde-7648-4abe-9dac-44701eabd72f  2014-04-09 06:10:00   \n",
        "e8a13982-f651-11e3-a510-f23c9173ce4a  2014-04-07 06:00:00   \n",
        "4a39b124-f594-11e3-a510-f23c9173ce4a  2014-06-06 03:30:00   \n",
        "2a31fb24-347b-4924-ab89-5c434771a2ae  2014-03-05 17:00:00   \n",
        "f1136e33-d227-4fbd-ae72-d3488d70ba89  2014-03-06 08:10:00   \n",
        "802afb51-c5eb-4230-9b22-9a77ef7260b3  2014-03-05 16:30:00   \n",
        "46d55815-f927-459f-a8e2-8bbcd88008ee  2013-10-16 07:20:00   \n",
        "c6261166-f651-11e3-a510-f23c9173ce4a  2014-04-07 06:00:00   \n",
        "aa3695b0-967a-11e4-b100-123b93f75cba  2014-11-25 13:30:00   \n",
        "aa36a136-967a-11e4-b100-123b93f75cba  2014-11-25 10:00:00   \n",
        "aa369b78-967a-11e4-b100-123b93f75cba  2014-11-25 10:00:00   \n",
        "aa369330-967a-11e4-b100-123b93f75cba  2014-11-25 13:30:00   \n",
        "aa369fd8-967a-11e4-b100-123b93f75cba  2014-11-25 10:00:00   \n",
        "aa369a4c-967a-11e4-b100-123b93f75cba  2014-11-25 10:00:00   \n",
        "aa369920-967a-11e4-b100-123b93f75cba  2014-11-25 10:00:00   \n",
        "aa3697b8-967a-11e4-b100-123b93f75cba  2014-11-25 13:30:00   \n",
        "aa36a5a0-967a-11e4-b100-123b93f75cba  2014-11-25 10:00:00   \n",
        "aa36a348-967a-11e4-b100-123b93f75cba  2014-11-25 01:00:00   \n",
        "aa368f3e-967a-11e4-b100-123b93f75cba  2014-11-25 13:30:00   \n",
        "ed21b6d0-9679-11e4-b100-123b93f75cba  2014-11-24 14:00:00   \n",
        "d9c86a10-3491-11e4-8c21-0800200c9a66  2014-07-02 10:10:00   \n",
        "beeb4730-3491-11e4-8c21-0800200c9a66  2014-07-02 11:10:00   \n",
        "f22857f0-3491-11e4-8c21-0800200c9a66  2014-07-01 19:10:00   \n",
        "face0d13-b22d-48fe-bec1-d29732604133  2014-04-08 06:10:00   \n",
        "\n",
        "                                                 ProdStop              LogLag  \\\n",
        "Sites                                                                           \n",
        "ed214e2a-9679-11e4-b100-123b93f75cba  2015-01-07 14:30:00      0 h 8 min 54 s   \n",
        "ed21b360-9679-11e4-b100-123b93f75cba  2015-01-07 13:10:00     0 h 18 min 54 s   \n",
        "ed21b4e6-9679-11e4-b100-123b93f75cba  2015-01-06 03:00:00     0 h 18 min 54 s   \n",
        "ed214bdc-9679-11e4-b100-123b93f75cba  2015-01-07 13:30:00     0 h 18 min 54 s   \n",
        "ed2145ce-9679-11e4-b100-123b93f75cba  2015-01-08 08:40:00     0 h 18 min 54 s   \n",
        "ed21b1e4-9679-11e4-b100-123b93f75cba  2015-01-07 13:20:00     0 h 18 min 54 s   \n",
        "ed21b7fc-9679-11e4-b100-123b93f75cba  2015-01-07 13:20:00     0 h 18 min 54 s   \n",
        "ed2149d4-9679-11e4-b100-123b93f75cba  2015-01-07 13:10:00     0 h 18 min 54 s   \n",
        "ed21b040-9679-11e4-b100-123b93f75cba  2015-01-07 14:30:00     0 h 18 min 54 s   \n",
        "ed21ae9c-9679-11e4-b100-123b93f75cba  2015-01-08 08:00:00     0 h 48 min 54 s   \n",
        "79ea7d0e-1da8-11e4-a510-f23c9173ce4a  2015-01-07 14:40:00    15 h 38 min 54 s   \n",
        "916b6e8e-1da8-11e4-a510-f23c9173ce4a  2015-01-07 14:50:00    15 h 38 min 54 s   \n",
        "709e47a1-ca88-4c22-890f-2407e9cb131a  2015-01-07 13:20:00     17 h 8 min 54 s   \n",
        "7f3c36b0-44a6-11e4-916c-0800200c9a66  2015-01-07 14:10:00     17 h 8 min 54 s   \n",
        "b0dd71a8-efe8-41eb-bab1-633ebaaa778c  2015-01-07 13:40:00     17 h 8 min 54 s   \n",
        "e93dc809-3491-11e4-8c21-0800200c9a66  2015-01-07 14:40:00    17 h 18 min 54 s   \n",
        "4cf6c743-8d0b-45f0-aa72-8a0c10315cf5  2015-01-07 13:20:00    17 h 18 min 54 s   \n",
        "845e5e54-1da8-11e4-a510-f23c9173ce4a  2015-01-07 14:10:00    17 h 18 min 54 s   \n",
        "8b28b202-1da8-11e4-a510-f23c9173ce4a  2015-01-07 13:50:00    17 h 18 min 54 s   \n",
        "71b0e5ec-1da8-11e4-a510-f23c9173ce4a  2015-01-07 14:40:00    17 h 18 min 54 s   \n",
        "7445f840-44a6-11e4-916c-0800200c9a66  2015-01-07 13:20:00    17 h 18 min 54 s   \n",
        "6f075b69-b823-4e6b-8021-dd751cc79eea  2015-01-07 13:20:00    17 h 38 min 54 s   \n",
        "32383bde-7648-4abe-9dac-44701eabd72f  2015-01-07 13:20:00    17 h 38 min 54 s   \n",
        "e8a13982-f651-11e3-a510-f23c9173ce4a  2015-01-07 13:50:00    17 h 38 min 54 s   \n",
        "4a39b124-f594-11e3-a510-f23c9173ce4a  2015-01-07 13:20:00    17 h 38 min 54 s   \n",
        "2a31fb24-347b-4924-ab89-5c434771a2ae  2015-01-07 13:20:00    17 h 58 min 54 s   \n",
        "f1136e33-d227-4fbd-ae72-d3488d70ba89  2015-01-07 12:50:00    17 h 58 min 54 s   \n",
        "802afb51-c5eb-4230-9b22-9a77ef7260b3  2015-01-07 13:20:00    17 h 58 min 54 s   \n",
        "46d55815-f927-459f-a8e2-8bbcd88008ee  2015-01-07 14:10:00    18 h 18 min 54 s   \n",
        "c6261166-f651-11e3-a510-f23c9173ce4a  2015-01-07 11:40:00    21 h 18 min 54 s   \n",
        "aa3695b0-967a-11e4-b100-123b93f75cba  2014-12-23 07:00:00   238 h 58 min 54 s   \n",
        "aa36a136-967a-11e4-b100-123b93f75cba  2014-12-28 14:30:00   238 h 58 min 54 s   \n",
        "aa369b78-967a-11e4-b100-123b93f75cba  2014-12-28 14:50:00   238 h 58 min 54 s   \n",
        "aa369330-967a-11e4-b100-123b93f75cba  2014-12-28 14:10:00   238 h 58 min 54 s   \n",
        "aa369fd8-967a-11e4-b100-123b93f75cba  2014-12-28 14:40:00   238 h 58 min 54 s   \n",
        "aa369a4c-967a-11e4-b100-123b93f75cba  2014-12-27 10:50:00   238 h 58 min 54 s   \n",
        "aa369920-967a-11e4-b100-123b93f75cba  2014-12-28 14:20:00   238 h 58 min 54 s   \n",
        "aa3697b8-967a-11e4-b100-123b93f75cba  2014-12-28 14:50:00   238 h 58 min 54 s   \n",
        "aa36a5a0-967a-11e4-b100-123b93f75cba  2014-12-28 14:40:00   238 h 58 min 54 s   \n",
        "aa36a348-967a-11e4-b100-123b93f75cba  2014-12-28 14:40:00   238 h 58 min 54 s   \n",
        "aa368f3e-967a-11e4-b100-123b93f75cba  2014-12-23 07:00:00   238 h 58 min 54 s   \n",
        "ed21b6d0-9679-11e4-b100-123b93f75cba  2014-12-11 23:00:00   656 h 58 min 54 s   \n",
        "d9c86a10-3491-11e4-8c21-0800200c9a66  2014-12-09 12:30:00   716 h 28 min 54 s   \n",
        "beeb4730-3491-11e4-8c21-0800200c9a66  2014-12-09 12:30:00   716 h 28 min 54 s   \n",
        "f22857f0-3491-11e4-8c21-0800200c9a66  2014-12-08 14:20:00   738 h 38 min 54 s   \n",
        "face0d13-b22d-48fe-bec1-d29732604133  2014-09-30 01:30:00  2400 h 38 min 54 s   \n",
        "\n",
        "                                                 ProdLag  \n",
        "Sites                                                     \n",
        "ed214e2a-9679-11e4-b100-123b93f75cba    18 h 28 min 54 s  \n",
        "ed21b360-9679-11e4-b100-123b93f75cba    19 h 48 min 54 s  \n",
        "ed21b4e6-9679-11e4-b100-123b93f75cba    53 h 58 min 54 s  \n",
        "ed214bdc-9679-11e4-b100-123b93f75cba    19 h 28 min 54 s  \n",
        "ed2145ce-9679-11e4-b100-123b93f75cba     0 h 18 min 54 s  \n",
        "ed21b1e4-9679-11e4-b100-123b93f75cba    19 h 38 min 54 s  \n",
        "ed21b7fc-9679-11e4-b100-123b93f75cba    19 h 38 min 54 s  \n",
        "ed2149d4-9679-11e4-b100-123b93f75cba    19 h 48 min 54 s  \n",
        "ed21b040-9679-11e4-b100-123b93f75cba    18 h 28 min 54 s  \n",
        "ed21ae9c-9679-11e4-b100-123b93f75cba     0 h 58 min 54 s  \n",
        "79ea7d0e-1da8-11e4-a510-f23c9173ce4a    18 h 18 min 54 s  \n",
        "916b6e8e-1da8-11e4-a510-f23c9173ce4a     18 h 8 min 54 s  \n",
        "709e47a1-ca88-4c22-890f-2407e9cb131a    19 h 38 min 54 s  \n",
        "7f3c36b0-44a6-11e4-916c-0800200c9a66    18 h 48 min 54 s  \n",
        "b0dd71a8-efe8-41eb-bab1-633ebaaa778c    19 h 18 min 54 s  \n",
        "e93dc809-3491-11e4-8c21-0800200c9a66    18 h 18 min 54 s  \n",
        "4cf6c743-8d0b-45f0-aa72-8a0c10315cf5    19 h 38 min 54 s  \n",
        "845e5e54-1da8-11e4-a510-f23c9173ce4a    18 h 48 min 54 s  \n",
        "8b28b202-1da8-11e4-a510-f23c9173ce4a     19 h 8 min 54 s  \n",
        "71b0e5ec-1da8-11e4-a510-f23c9173ce4a    18 h 18 min 54 s  \n",
        "7445f840-44a6-11e4-916c-0800200c9a66    19 h 38 min 54 s  \n",
        "6f075b69-b823-4e6b-8021-dd751cc79eea    19 h 38 min 54 s  \n",
        "32383bde-7648-4abe-9dac-44701eabd72f    19 h 38 min 54 s  \n",
        "e8a13982-f651-11e3-a510-f23c9173ce4a     19 h 8 min 54 s  \n",
        "4a39b124-f594-11e3-a510-f23c9173ce4a    19 h 38 min 54 s  \n",
        "2a31fb24-347b-4924-ab89-5c434771a2ae    19 h 38 min 54 s  \n",
        "f1136e33-d227-4fbd-ae72-d3488d70ba89     20 h 8 min 54 s  \n",
        "802afb51-c5eb-4230-9b22-9a77ef7260b3    19 h 38 min 54 s  \n",
        "46d55815-f927-459f-a8e2-8bbcd88008ee    18 h 48 min 54 s  \n",
        "c6261166-f651-11e3-a510-f23c9173ce4a    21 h 18 min 54 s  \n",
        "aa3695b0-967a-11e4-b100-123b93f75cba   385 h 58 min 54 s  \n",
        "aa36a136-967a-11e4-b100-123b93f75cba   258 h 28 min 54 s  \n",
        "aa369b78-967a-11e4-b100-123b93f75cba    258 h 8 min 54 s  \n",
        "aa369330-967a-11e4-b100-123b93f75cba   258 h 48 min 54 s  \n",
        "aa369fd8-967a-11e4-b100-123b93f75cba   258 h 18 min 54 s  \n",
        "aa369a4c-967a-11e4-b100-123b93f75cba    286 h 8 min 54 s  \n",
        "aa369920-967a-11e4-b100-123b93f75cba   258 h 38 min 54 s  \n",
        "aa3697b8-967a-11e4-b100-123b93f75cba    258 h 8 min 54 s  \n",
        "aa36a5a0-967a-11e4-b100-123b93f75cba   258 h 18 min 54 s  \n",
        "aa36a348-967a-11e4-b100-123b93f75cba   258 h 18 min 54 s  \n",
        "aa368f3e-967a-11e4-b100-123b93f75cba   385 h 58 min 54 s  \n",
        "ed21b6d0-9679-11e4-b100-123b93f75cba   657 h 58 min 54 s  \n",
        "d9c86a10-3491-11e4-8c21-0800200c9a66   716 h 28 min 54 s  \n",
        "beeb4730-3491-11e4-8c21-0800200c9a66   716 h 28 min 54 s  \n",
        "f22857f0-3491-11e4-8c21-0800200c9a66   738 h 38 min 54 s  \n",
        "face0d13-b22d-48fe-bec1-d29732604133  2408 h 28 min 54 s  "
       ]
      }
     ],
     "prompt_number": 123
    },
    {
     "cell_type": "code",
     "collapsed": false,
     "input": [
      "slb = pd.io.html.read_html(\"http://slb.nu/soldata/\")"
     ],
     "language": "python",
     "metadata": {},
     "outputs": [],
     "prompt_number": 10
    },
    {
     "cell_type": "code",
     "collapsed": false,
     "input": [
      "type(slb)"
     ],
     "language": "python",
     "metadata": {},
     "outputs": [
      {
       "metadata": {},
       "output_type": "pyout",
       "prompt_number": 12,
       "text": [
        "list"
       ]
      }
     ],
     "prompt_number": 12
    },
    {
     "cell_type": "code",
     "collapsed": false,
     "input": [
      "ids = slb[0][8].dropna()"
     ],
     "language": "python",
     "metadata": {},
     "outputs": [],
     "prompt_number": 36
    },
    {
     "cell_type": "code",
     "collapsed": false,
     "input": [
      "ids"
     ],
     "language": "python",
     "metadata": {},
     "outputs": [
      {
       "metadata": {},
       "output_type": "pyout",
       "prompt_number": 37,
       "text": [
        "3     stnKEY\n",
        "4        b01\n",
        "5        b02\n",
        "6        b03\n",
        "7        b04\n",
        "8        b05\n",
        "10       b06\n",
        "11       b08\n",
        "12       b09\n",
        "13       b10\n",
        "14       b11\n",
        "16       b12\n",
        "17       b14\n",
        "18       b15\n",
        "19       b16\n",
        "20       b17\n",
        "22       b18\n",
        "23       b19\n",
        "24       b20\n",
        "25       b21\n",
        "26       b22\n",
        "28       b23\n",
        "29       b24\n",
        "30       b25\n",
        "31       b26\n",
        "32       b27\n",
        "34       b28\n",
        "35       b29\n",
        "36       f04\n",
        "37       f05\n",
        "38       f06\n",
        "40       f07\n",
        "41       f09\n",
        "42       f10\n",
        "43       f11\n",
        "44       f12\n",
        "46       f13\n",
        "47       f14\n",
        "48       f15\n",
        "49       f16\n",
        "50       f17\n",
        "52       f18\n",
        "53       f19\n",
        "54       f20\n",
        "55       f21\n",
        "56       f22\n",
        "58       h00\n",
        "59       k01\n",
        "Name: 8, dtype: object"
       ]
      }
     ],
     "prompt_number": 37
    },
    {
     "cell_type": "code",
     "collapsed": false,
     "input": [
      "id2 = status[\"OpID\"]"
     ],
     "language": "python",
     "metadata": {},
     "outputs": [],
     "prompt_number": 24
    },
    {
     "cell_type": "code",
     "collapsed": false,
     "input": [
      "ids2 = id2.values"
     ],
     "language": "python",
     "metadata": {},
     "outputs": [],
     "prompt_number": 26
    },
    {
     "cell_type": "code",
     "collapsed": false,
     "input": [
      "ids2"
     ],
     "language": "python",
     "metadata": {},
     "outputs": [
      {
       "metadata": {},
       "output_type": "pyout",
       "prompt_number": 28,
       "text": [
        "array([u'b10', u'b29', u'b23', u'b21', u'b25', u'b27', u'b02', u'b01',\n",
        "       u'b09', u'b12', u'b06', u'b05', u'b22', u'b03', u'k01', u'b24',\n",
        "       u'f09', u'f04', u'b26', u'f11', u'b20', u'h00', u'f06', u'f07',\n",
        "       u'f10', u'b11', u'b15', u'b18', u'b16', u'b08', u'f19', u'f18',\n",
        "       u'f13', u'f14', u'f12', u'f16', u'f15', u'f20', u'f17', u'f22',\n",
        "       u'f21', u'b28', u'b14', u'b17', u'b19', u'f05'], dtype=object)"
       ]
      }
     ],
     "prompt_number": 28
    },
    {
     "cell_type": "code",
     "collapsed": false,
     "input": [
      "ids = ids.values"
     ],
     "language": "python",
     "metadata": {},
     "outputs": [],
     "prompt_number": 38
    },
    {
     "cell_type": "code",
     "collapsed": false,
     "input": [
      "ids"
     ],
     "language": "python",
     "metadata": {},
     "outputs": [],
     "prompt_number": 35
    },
    {
     "cell_type": "code",
     "collapsed": false,
     "input": [
      "ids = ids.sort()"
     ],
     "language": "python",
     "metadata": {},
     "outputs": [],
     "prompt_number": 32
    },
    {
     "cell_type": "code",
     "collapsed": false,
     "input": [
      "dis"
     ],
     "language": "python",
     "metadata": {},
     "outputs": [
      {
       "ename": "NameError",
       "evalue": "name 'dis' is not defined",
       "output_type": "pyerr",
       "traceback": [
        "\u001b[0;31m---------------------------------------------------------------------------\u001b[0m\n\u001b[0;31mNameError\u001b[0m                                 Traceback (most recent call last)",
        "\u001b[0;32m<ipython-input-33-48f87b3eeed4>\u001b[0m in \u001b[0;36m<module>\u001b[0;34m()\u001b[0m\n\u001b[0;32m----> 1\u001b[0;31m \u001b[0mdis\u001b[0m\u001b[0;34m\u001b[0m\u001b[0m\n\u001b[0m",
        "\u001b[0;31mNameError\u001b[0m: name 'dis' is not defined"
       ]
      }
     ],
     "prompt_number": 33
    },
    {
     "cell_type": "code",
     "collapsed": false,
     "input": [
      "ids.sort()"
     ],
     "language": "python",
     "metadata": {},
     "outputs": [],
     "prompt_number": 39
    },
    {
     "cell_type": "code",
     "collapsed": false,
     "input": [
      "ids"
     ],
     "language": "python",
     "metadata": {},
     "outputs": [
      {
       "metadata": {},
       "output_type": "pyout",
       "prompt_number": 40,
       "text": [
        "array([u'b01', u'b02', u'b03', u'b04', u'b05', u'b06', u'b08', u'b09',\n",
        "       u'b10', u'b11', u'b12', u'b14', u'b15', u'b16', u'b17', u'b18',\n",
        "       u'b19', u'b20', u'b21', u'b22', u'b23', u'b24', u'b25', u'b26',\n",
        "       u'b27', u'b28', u'b29', u'f04', u'f05', u'f06', u'f07', u'f09',\n",
        "       u'f10', u'f11', u'f12', u'f13', u'f14', u'f15', u'f16', u'f17',\n",
        "       u'f18', u'f19', u'f20', u'f21', u'f22', u'h00', u'k01', u'stnKEY'], dtype=object)"
       ]
      }
     ],
     "prompt_number": 40
    },
    {
     "cell_type": "code",
     "collapsed": false,
     "input": [
      "ids2.sort()"
     ],
     "language": "python",
     "metadata": {},
     "outputs": [],
     "prompt_number": 41
    },
    {
     "cell_type": "code",
     "collapsed": false,
     "input": [
      "ids2"
     ],
     "language": "python",
     "metadata": {},
     "outputs": [
      {
       "metadata": {},
       "output_type": "pyout",
       "prompt_number": 42,
       "text": [
        "array([u'b01', u'b02', u'b03', u'b05', u'b06', u'b08', u'b09', u'b10',\n",
        "       u'b11', u'b12', u'b14', u'b15', u'b16', u'b17', u'b18', u'b19',\n",
        "       u'b20', u'b21', u'b22', u'b23', u'b24', u'b25', u'b26', u'b27',\n",
        "       u'b28', u'b29', u'f04', u'f05', u'f06', u'f07', u'f09', u'f10',\n",
        "       u'f11', u'f12', u'f13', u'f14', u'f15', u'f16', u'f17', u'f18',\n",
        "       u'f19', u'f20', u'f21', u'f22', u'h00', u'k01'], dtype=object)"
       ]
      }
     ],
     "prompt_number": 42
    },
    {
     "cell_type": "code",
     "collapsed": false,
     "input": [],
     "language": "python",
     "metadata": {},
     "outputs": []
    }
   ],
   "metadata": {}
  }
 ]
}