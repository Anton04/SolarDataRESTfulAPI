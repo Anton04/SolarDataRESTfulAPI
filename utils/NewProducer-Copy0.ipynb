{
 "metadata": {
  "name": ""
 },
 "nbformat": 3,
 "nbformat_minor": 0,
 "worksheets": [
  {
   "cells": [
    {
     "cell_type": "code",
     "collapsed": false,
     "input": [
      "cd git/SolarDataRESTfulAPI/"
     ],
     "language": "python",
     "metadata": {},
     "outputs": [
      {
       "output_type": "stream",
       "stream": "stdout",
       "text": [
        "/root/git/SolarDataRESTfulAPI\n"
       ]
      }
     ],
     "prompt_number": 1
    },
    {
     "cell_type": "code",
     "collapsed": false,
     "input": [
      "import json\n",
      "import pandas as pd\n",
      "import InfluxDBInterface\n",
      "import time\n",
      "reload(InfluxDBInterface)\n",
      "from ElasticsearchInterface import ESinterface\n",
      "import IoTtoolkit\n",
      "reload(IoTtoolkit)\n",
      "\n",
      "DataLink = InfluxDBInterface.InfluxDBInterface(\"influxInterfaceCredentials2.json\")\n",
      "\n",
      "LogDB = DataLink.databases[u'SolarLogdata']\n",
      "ProductionDB = DataLink.databases[u'SolarProductionSites']\n",
      "AreaDB = DataLink.databases[u'SolarProductionAreas']\n",
      "Test = DataLink.databases[u'test']\n",
      "\n",
      "es = ESinterface()\n"
     ],
     "language": "python",
     "metadata": {},
     "outputs": [],
     "prompt_number": 11
    },
    {
     "cell_type": "code",
     "collapsed": false,
     "input": [
      "def AreaProductionAlgorithm(SitesProductionBuf):\n",
      "    dfPower = SitesProductionBuf.Data[PowerStreams]\n",
      "    dfEnergy = SitesProductionBuf.Data[EnergyStreams]\n",
      "    AreaProduction = pd.DataFrame()\n",
      "    \n",
      "    \n",
      "    AreaProduction[\"Power\"] = dfPower.sum(1)\n",
      "    AreaProduction[\"nSumedPower\"] = dfPower.count(1)\n",
      "    #AreaProduction[\"PmaxSumed\"]\n",
      "    \n",
      "    Pmax = pd.DataFrame(list(sites.loc[\"Pmax\"]),index=list(sites.loc[\"online_since\"]/1000),columns = [\"Pmax\"])#dfPower #AreaProduction\n",
      "    Pmax.sort_index(inplace=True)\n",
      "    Pmax[\"Pmax\"] *= 1000\n",
      "    Pmax[\"nMax\"] =1\n",
      "\n",
      "    #Save the period.\n",
      "    Start = AreaProduction.index[0]\n",
      "    Stop = AreaProduction.index[-1]\n",
      "    \n",
      "    #Add Pmax\n",
      "    AreaProduction = AreaProduction.join(Pmax.cumsum(),how=\"outer\")\n",
      "    \n",
      "    #Calculate PmaxSum\n",
      "    df = pd.DataFrame(sites.loc[\"Pmax\"]).T\n",
      "    df = df.reindex_axis(sorted(df.columns), axis=1)\n",
      "    df2 = dfPower.reindex_axis(sorted(dfPower.columns), axis=1)\n",
      "    \n",
      "    AreaProduction[\"PmaxSum\"] = pd.DataFrame(df2.notnull().values * df.values, index = df2.index, columns = df.columns).sum(1)*1000\n",
      "    \n",
      "    #Add Energy and nSummedEnergy \n",
      "    AreaProduction = AreaProduction.join(pd.DataFrame(dfEnergy.ffill().sum(1),columns = [\"Energy\"]),how=\"outer\")\n",
      "    AreaProduction[\"nSumedEnergy\"] = dfEnergy.count(1)\n",
      "    \n",
      "    \n",
      "    #Cut out the part we need.\n",
      "    AreaProduction.fillna(method=\"ffill\", inplace = True)\n",
      "    AreaProduction = AreaProduction.loc[Start:Stop]\n",
      "    \n",
      "    return AreaProduction\n",
      "    "
     ],
     "language": "python",
     "metadata": {},
     "outputs": [],
     "prompt_number": 27
    },
    {
     "cell_type": "code",
     "collapsed": false,
     "input": [
      "areas = es.GetHitsAsDataFrame(\"solar-area-index\",\"meta-data\")\n",
      "\n",
      "#for area in areas: \n",
      "    #CalculateAreaProduction(area)\n",
      "area = areas.iloc[:,3]\n",
      "\n"
     ],
     "language": "python",
     "metadata": {},
     "outputs": [
      {
       "output_type": "stream",
       "stream": "stdout",
       "text": [
        "Got 19 Hits:\n"
       ]
      }
     ],
     "prompt_number": 28
    },
    {
     "cell_type": "code",
     "collapsed": false,
     "input": [
      "#def CalculateAreaProduction(area):\n",
      "\n",
      "sites = es.GetHitsMatchingPropDict(\"solar-sites-index\",\"meta-data\",json.loads(area[\"query\"]))\n",
      "\n",
      "SitesProduction = IoTtoolkit.Feed()\n",
      "\n",
      "PowerStreams = SitesProduction.CombineStreamsFromMulipleSources(\"Power\",ProductionDB,sites.columns,\"Power\",Compressed=False)\n",
      "EnergyStreams = SitesProduction.CombineStreamsFromMulipleSources(\"Energy\",ProductionDB,sites.columns,\"Energy\",Compressed=True)\n",
      "SitesProductionBuf = SitesProduction.GetBuffer()\n",
      "SitesProductionBuf.Size = 10000\n",
      "SitesProductionBuf.Seek(0)\n",
      "\n",
      "\n",
      "while not SitesProductionBuf.EOF:\n",
      "    AreaProduction = AreaProductionAlgorithm(SitesProductionBuf)\n",
      "    Test.Replace(area.name,AreaProduction)\n",
      "    SitesProductionBuf.Next()\n"
     ],
     "language": "python",
     "metadata": {},
     "outputs": [
      {
       "ename": "TypeError",
       "evalue": "Replace() takes at least 3 arguments (2 given)",
       "output_type": "pyerr",
       "traceback": [
        "\u001b[0;31m---------------------------------------------------------------------------\u001b[0m\n\u001b[0;31mTypeError\u001b[0m                                 Traceback (most recent call last)",
        "\u001b[0;32m<ipython-input-152-bd9de84c19e9>\u001b[0m in \u001b[0;36m<module>\u001b[0;34m()\u001b[0m\n\u001b[1;32m     14\u001b[0m \u001b[0;32mwhile\u001b[0m \u001b[0;32mnot\u001b[0m \u001b[0mSitesProductionBuf\u001b[0m\u001b[0;34m.\u001b[0m\u001b[0mEOF\u001b[0m\u001b[0;34m:\u001b[0m\u001b[0;34m\u001b[0m\u001b[0m\n\u001b[1;32m     15\u001b[0m     \u001b[0mAreaProduction\u001b[0m \u001b[0;34m=\u001b[0m \u001b[0mAreaProductionAlgorithm\u001b[0m\u001b[0;34m(\u001b[0m\u001b[0mSitesProductionBuf\u001b[0m\u001b[0;34m)\u001b[0m\u001b[0;34m\u001b[0m\u001b[0m\n\u001b[0;32m---> 16\u001b[0;31m     \u001b[0mTest\u001b[0m\u001b[0;34m.\u001b[0m\u001b[0mReplace\u001b[0m\u001b[0;34m(\u001b[0m\u001b[0marea\u001b[0m\u001b[0;34m.\u001b[0m\u001b[0mname\u001b[0m\u001b[0;34m)\u001b[0m\u001b[0;34m\u001b[0m\u001b[0m\n\u001b[0m\u001b[1;32m     17\u001b[0m     \u001b[0mSitesProductionBuf\u001b[0m\u001b[0;34m.\u001b[0m\u001b[0mNext\u001b[0m\u001b[0;34m(\u001b[0m\u001b[0;34m)\u001b[0m\u001b[0;34m\u001b[0m\u001b[0m\n",
        "\u001b[0;31mTypeError\u001b[0m: Replace() takes at least 3 arguments (2 given)"
       ]
      },
      {
       "output_type": "stream",
       "stream": "stdout",
       "text": [
        "Got 6 Hits:\n"
       ]
      }
     ],
     "prompt_number": 152
    },
    {
     "cell_type": "code",
     "collapsed": false,
     "input": [
      "area"
     ],
     "language": "python",
     "metadata": {},
     "outputs": [
      {
       "metadata": {},
       "output_type": "pyout",
       "prompt_number": 151,
       "text": [
        "u'449eda38-0141-11e4-a510-f23c9173ce4a'"
       ]
      }
     ],
     "prompt_number": 151
    },
    {
     "cell_type": "code",
     "collapsed": false,
     "input": [],
     "language": "python",
     "metadata": {},
     "outputs": []
    }
   ],
   "metadata": {}
  }
 ]
}