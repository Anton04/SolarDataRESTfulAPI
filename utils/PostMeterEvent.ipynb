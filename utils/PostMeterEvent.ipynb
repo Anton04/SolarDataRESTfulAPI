{
 "metadata": {
  "name": ""
 },
 "nbformat": 3,
 "nbformat_minor": 0,
 "worksheets": [
  {
   "cells": [
    {
     "cell_type": "code",
     "collapsed": false,
     "input": [
      "cd /home/iot/repos/SolarDataRESTfulAPI\n"
     ],
     "language": "python",
     "metadata": {},
     "outputs": [
      {
       "output_type": "stream",
       "stream": "stdout",
       "text": [
        "/home/iot/repos/SolarDataRESTfulAPI\n"
       ]
      }
     ],
     "prompt_number": 16
    },
    {
     "cell_type": "code",
     "collapsed": false,
     "input": [
      "ls"
     ],
     "language": "python",
     "metadata": {},
     "outputs": [
      {
       "output_type": "stream",
       "stream": "stdout",
       "text": [
        "cvs_importer.py             influxInterfaceCredentials2.json  \u001b[0m\u001b[01;32mSLB_DataImporter.py\u001b[0m*\r\n",
        "ElasticsearchInterface.py   IoTtoolkit.py                     \u001b[01;32mSolarAreaProductionProducer.py\u001b[0m*\r\n",
        "ElasticsearchInterface.pyc  IoTtoolkit.pyc                    SolarDataRESTapi.py\r\n",
        "Feeds.json                  LICENSE                           \u001b[01;32mSolarProductionProducer.py\u001b[0m*\r\n",
        "InfluxDBInterface.py        README.md                         \u001b[01;32mSolarRestAPI.sh\u001b[0m*\r\n",
        "InfluxDBInterface.pyc       \u001b[01;32mSeriesStatus.py\u001b[0m*                  Universe.json\r\n",
        "influxDBSolarREST.py        SiteIDs.json\r\n"
       ]
      }
     ],
     "prompt_number": 7
    },
    {
     "cell_type": "code",
     "collapsed": false,
     "input": [
      "import pandas as pd\n",
      "import InfluxDBInterface\n",
      "import time\n",
      "from ElasticsearchInterface import ESinterface\n",
      "import sys\n",
      "import argparse"
     ],
     "language": "python",
     "metadata": {},
     "outputs": [],
     "prompt_number": 8
    },
    {
     "cell_type": "code",
     "collapsed": false,
     "input": [
      "sys.path.append(\"/home/iot/repos/SolarDataRESTfulAPI\")"
     ],
     "language": "python",
     "metadata": {},
     "outputs": [],
     "prompt_number": 11
    },
    {
     "cell_type": "code",
     "collapsed": false,
     "input": [
      "sys.path\n"
     ],
     "language": "python",
     "metadata": {},
     "outputs": [
      {
       "metadata": {},
       "output_type": "pyout",
       "prompt_number": 12,
       "text": [
        "['',\n",
        " '/usr/lib/python2.7',\n",
        " '/usr/lib/python2.7/plat-x86_64-linux-gnu',\n",
        " '/usr/lib/python2.7/lib-tk',\n",
        " '/usr/lib/python2.7/lib-old',\n",
        " '/usr/lib/python2.7/lib-dynload',\n",
        " '/usr/local/lib/python2.7/dist-packages',\n",
        " '/usr/lib/python2.7/dist-packages',\n",
        " '/usr/lib/python2.7/dist-packages/PILcompat',\n",
        " '/usr/lib/python2.7/dist-packages/gtk-2.0',\n",
        " '/usr/lib/pymodules/python2.7',\n",
        " '/usr/lib/python2.7/dist-packages/IPython/extensions',\n",
        " '/home/iot/repos/SolarDataRESTfulAPI']"
       ]
      }
     ],
     "prompt_number": 12
    },
    {
     "cell_type": "code",
     "collapsed": false,
     "input": [
      "DataLink = InfluxDBInterface.InfluxDBInterface(\"influxInterfaceCredentials2.json\")"
     ],
     "language": "python",
     "metadata": {},
     "outputs": [],
     "prompt_number": 17
    },
    {
     "cell_type": "code",
     "collapsed": false,
     "input": [
      "DataBase = DataLink.databases[\"SolarProductionSites\"]\n",
      "\n"
     ],
     "language": "python",
     "metadata": {},
     "outputs": [],
     "prompt_number": 23
    },
    {
     "cell_type": "code",
     "collapsed": false,
     "input": [
      "DataLink.listdataseries()"
     ],
     "language": "python",
     "metadata": {},
     "outputs": [
      {
       "metadata": {},
       "output_type": "pyout",
       "prompt_number": 22,
       "text": [
        "[u'test/list_series_result',\n",
        " u'SolarProductionSites/list_series_result',\n",
        " u'SolarLogdata/list_series_result',\n",
        " u'SolarProductionAreas/list_series_result']"
       ]
      }
     ],
     "prompt_number": 22
    },
    {
     "cell_type": "code",
     "collapsed": false,
     "input": [
      "DataBase.GetLastValue(\"2a31fb24-347b-4924-ab89-5c434771a2ae\",[u'Power'])"
     ],
     "language": "python",
     "metadata": {},
     "outputs": [
      {
       "metadata": {},
       "output_type": "pyout",
       "prompt_number": 29,
       "text": [
        "(1425133200000, 7174)"
       ]
      }
     ],
     "prompt_number": 29
    },
    {
     "cell_type": "code",
     "collapsed": false,
     "input": [
      "DataBase.GetProperties(\"2a31fb24-347b-4924-ab89-5c434771a2ae\")"
     ],
     "language": "python",
     "metadata": {},
     "outputs": [
      {
       "metadata": {},
       "output_type": "pyout",
       "prompt_number": 27,
       "text": [
        "[u'Power', u'Energy']"
       ]
      }
     ],
     "prompt_number": 27
    },
    {
     "cell_type": "code",
     "collapsed": false,
     "input": [
      "ls"
     ],
     "language": "python",
     "metadata": {},
     "outputs": [
      {
       "output_type": "stream",
       "stream": "stdout",
       "text": [
        "cvs_importer.py                   IoTtoolkit.py             \u001b[0m\u001b[01;32mSLB_DataImporter.py\u001b[0m*\r\n",
        "ElasticsearchInterface.py         IoTtoolkit.pyc            \u001b[01;32mSolarAreaProductionProducer.py\u001b[0m*\r\n",
        "ElasticsearchInterface.pyc        LICENSE                   SolarDataRESTapi.py\r\n",
        "Feeds.json                        \u001b[01;32mPostInfluxMeterEvent.py\u001b[0m*  \u001b[01;32mSolarProductionProducer.py\u001b[0m*\r\n",
        "InfluxDBInterface.py              README.md                 \u001b[01;32mSolarRestAPI.sh\u001b[0m*\r\n",
        "InfluxDBInterface.pyc             \u001b[01;32mSeriesStatus.py\u001b[0m*          Universe.json\r\n",
        "influxDBSolarREST.py              SeriesStatus.pyc\r\n",
        "influxInterfaceCredentials2.json  SiteIDs.json\r\n"
       ]
      }
     ],
     "prompt_number": 30
    },
    {
     "cell_type": "code",
     "collapsed": false,
     "input": [
      "import mosquitto\n"
     ],
     "language": "python",
     "metadata": {},
     "outputs": [],
     "prompt_number": 31
    },
    {
     "cell_type": "code",
     "collapsed": false,
     "input": [
      "mqtt=mosquitto.Mosquitto(\"ProductionProducer\")"
     ],
     "language": "python",
     "metadata": {},
     "outputs": [],
     "prompt_number": 32
    },
    {
     "cell_type": "code",
     "collapsed": false,
     "input": [
      "mqtt.loop_start()"
     ],
     "language": "python",
     "metadata": {},
     "outputs": [],
     "prompt_number": 33
    },
    {
     "cell_type": "code",
     "collapsed": false,
     "input": [],
     "language": "python",
     "metadata": {},
     "outputs": []
    }
   ],
   "metadata": {}
  }
 ]
}