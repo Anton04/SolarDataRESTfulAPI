{
 "metadata": {
  "name": ""
 },
 "nbformat": 3,
 "nbformat_minor": 0,
 "worksheets": [
  {
   "cells": [
    {
     "cell_type": "code",
     "collapsed": false,
     "input": [
      "cd git/SolarDataRESTfulAPI/"
     ],
     "language": "python",
     "metadata": {},
     "outputs": [
      {
       "output_type": "stream",
       "stream": "stdout",
       "text": [
        "[Errno 2] No such file or directory: 'git/SolarDataRESTfulAPI/'\n",
        "/home/iot/repos/SolarDataRESTfulAPI\n"
       ]
      }
     ],
     "prompt_number": 8
    },
    {
     "cell_type": "code",
     "collapsed": false,
     "input": [
      "import json\n",
      "import pandas as pd\n",
      "import InfluxDBInterface\n",
      "import time\n",
      "reload(InfluxDBInterface)\n",
      "from ElasticsearchInterface import ESinterface\n",
      "import IoTtoolkit\n",
      "#reload(IoTtoolkit)\n",
      "import sys\n",
      "import mosquitto\n",
      "import os\n",
      "import argparse\n",
      "\n",
      "DataLink = InfluxDBInterface.InfluxDBInterface(\"influxInterfaceCredentials2.json\")\n",
      "\n",
      "LogDB = DataLink.databases[u'SolarLogdata']\n",
      "ProductionDB = DataLink.databases[u'SolarProductionSites']\n",
      "AreaDB = DataLink.databases[u'SolarProductionAreas']\n",
      "Test = DataLink.databases[u'test']\n",
      "\n",
      "es = ESinterface()\n"
     ],
     "language": "python",
     "metadata": {},
     "outputs": [],
     "prompt_number": 9
    },
    {
     "cell_type": "code",
     "collapsed": false,
     "input": [
      "def AreaProductionAlgorithm(SitesProductionBuf,sites,PowerStreams,EnergyStreams):\n",
      "    dfPower = SitesProductionBuf.Data[PowerStreams]\n",
      "    dfEnergy = SitesProductionBuf.Data[EnergyStreams]\n",
      "    AreaProduction = pd.DataFrame()\n",
      "    \n",
      "    \n",
      "    AreaProduction[\"Power\"] = dfPower.sum(1)\n",
      "    AreaProduction[\"nSumedPower\"] = dfPower.count(1)\n",
      "    #AreaProduction[\"PmaxSumed\"]\n",
      "    \n",
      "    Pmax = pd.DataFrame(list(sites.loc[\"Pmax\"]),index=list(sites.loc[\"online_since\"]/1000),columns = [\"Pmax\"])#dfPower #AreaProduction\n",
      "    Pmax.sort_index(inplace=True)\n",
      "    Pmax[\"Pmax\"] *= 1000\n",
      "    Pmax[\"nMax\"] =1\n",
      "\n",
      "    #Save the period.\n",
      "    Start = AreaProduction.index[0]\n",
      "    Stop = AreaProduction.index[-1]\n",
      "    \n",
      "    #Add Pmax\n",
      "    AreaProduction = AreaProduction.join(Pmax.cumsum(),how=\"outer\")\n",
      "    \n",
      "    #Calculate PmaxSum\n",
      "    df = pd.DataFrame(sites.loc[\"Pmax\"]).T\n",
      "    df = df.reindex_axis(sorted(df.columns), axis=1)\n",
      "    df2 = dfPower.reindex_axis(sorted(dfPower.columns), axis=1)\n",
      "    \n",
      "    AreaProduction[\"PmaxSum\"] = pd.DataFrame(df2.notnull().values * df.values, index = df2.index, columns = df.columns).sum(1)*1000\n",
      "    \n",
      "    #Add Energy and nSummedEnergy \n",
      "    AreaProduction = AreaProduction.join(pd.DataFrame(dfEnergy.ffill().sum(1),columns = [\"Energy\"]),how=\"outer\")\n",
      "    AreaProduction[\"nSumedEnergy\"] = dfEnergy.count(1)\n",
      "    \n",
      "    \n",
      "    #Cut out the part we need.\n",
      "    AreaProduction.fillna(method=\"ffill\", inplace = True)\n",
      "    AreaProduction = AreaProduction.loc[Start:Stop]\n",
      "    \n",
      "    return AreaProduction\n",
      "    "
     ],
     "language": "python",
     "metadata": {},
     "outputs": [],
     "prompt_number": 40
    },
    {
     "cell_type": "code",
     "collapsed": false,
     "input": [
      "def CalculateAreaProduction(area,Recalculate=False):\n",
      "    global AreaProduction2\n",
      "    global debugName\n",
      "    \n",
      "    sites = es.GetHitsMatchingPropDict(\"solar-sites-index\",\"meta-data\",json.loads(area[\"query\"]))\n",
      "    \n",
      "    if sites.shape[1] == 0:\n",
      "        return \n",
      "    \n",
      "    SitesProduction = IoTtoolkit.Feed()\n",
      "    \n",
      "    PowerStreams = SitesProduction.CombineStreamsFromMulipleSources(\"Power\",ProductionDB,sites.columns,\"Power\",Compressed=False)\n",
      "    EnergyStreams = SitesProduction.CombineStreamsFromMulipleSources(\"Energy\",ProductionDB,sites.columns,\"Energy\",Compressed=True)\n",
      "    SitesProductionBuf = SitesProduction.GetBuffer()\n",
      "    SitesProductionBuf.Size = 5000\n",
      "    \n",
      "    if Recalculate:\n",
      "        SitesProductionBuf.Seek(0)\n",
      "    else:\n",
      "        #Recalculate last week and forward. \n",
      "        SitesProductionBuf.Seek(time.time() - (14 * 24 * 3600))\n",
      "    \n",
      "    \n",
      "    while not SitesProductionBuf.EOF:\n",
      "        AreaProduction = AreaProductionAlgorithm(SitesProductionBuf,sites,PowerStreams,EnergyStreams)\n",
      "        try:\n",
      "            AreaDB.Replace(area.name,AreaProduction,Compressed = False)\n",
      "        except ValueError:\n",
      "            print AreaProduction\n",
      "            AreaProduction2 = AreaProduction\n",
      "            debugName = area.name\n",
      "            break\n",
      "        SitesProductionBuf.Next()\n"
     ],
     "language": "python",
     "metadata": {},
     "outputs": [],
     "prompt_number": 63
    },
    {
     "cell_type": "code",
     "collapsed": false,
     "input": [
      "if True: #if __name__ == \"__main__\":\n",
      "    \n",
      "    #Parse arguments\n",
      "    #parser = argparse.ArgumentParser(add_help=False)\n",
      "    #parser.add_argument('-h', dest='host', default=\"localhost\", help='MQTT host send results to')\n",
      "    #parser.add_argument('-t', dest='topic', default=\"\", help='MQTT topic to process')\n",
      "    #parser.add_argument('-m', dest='message', default=\"\", help='MQTT message to process')\n",
      "\n",
      "    #args = parser.parse_args()\n",
      "\n",
      "    #Get location of script\n",
      "    path = os.path.abspath(os.path.dirname(sys.argv[0]))\n",
      "\n",
      "\n",
      "    #Set up MQTT\n",
      "    ip = \"localhost\"\n",
      "    port = 1883\n",
      "    user = \"driver\"\n",
      "    password = \"1234\"\n",
      "    prefix = \"SolarAreaProductionProducer\"\n",
      "    \n",
      "    mqtt=mosquitto.Mosquitto(\"AreaProductionProducer\")\n",
      "    mqtt.prefix = prefix\n",
      "    mqtt.ip = ip\n",
      "    mqtt.port = port\n",
      "    #mqtt.clientId = clientId\n",
      "    mqtt.user = user\n",
      "    mqtt.password = password\n",
      "                \n",
      "    if mqtt != None:\n",
      "        mqtt.username_pw_set(user,password)\n",
      "    \n",
      "    #mqtt.will_set( topic =  \"system/\" + prefix, payload=\"Idle\", qos=1, retain=True)\n",
      "    mqtt.connect(ip,keepalive=10)\n",
      "    mqtt.publish(topic = \"system/\"+ prefix, payload=\"Updating\", qos=1, retain=True)\n",
      "    \n",
      "    areas = es.GetHitsAsDataFrame(\"solar-area-index\",\"meta-data\")\n",
      "    \n",
      "    #areas = areas.iloc[:,-7:]\n",
      "    \n",
      "    for id in areas.columns: \n",
      "        print \"Processing %s\" % areas[id][\"Name\"]\n",
      "        print \"...\"\n",
      "        time.sleep(0.5)\n",
      "        CalculateAreaProduction(areas[id],True)\n",
      "    \n",
      "    print \"All done!\"\n",
      "    \n",
      "    mqtt.connect(ip,keepalive=10)\n",
      "    #mqtt.publish(topic = \"solardata/production/at\", payload=str((TrailTime,LeadTime)), qos=1, retain=True) \n",
      "    mqtt.publish(topic = \"solardata/area-production/lastupdate\", payload=now, qos=1, retain=True)    \n",
      "    mqtt.publish(topic = \"system/\"+ prefix, payload=\"Idle\", qos=1, retain=True)\n",
      "    \n",
      "\n"
     ],
     "language": "python",
     "metadata": {},
     "outputs": [
      {
       "output_type": "stream",
       "stream": "stdout",
       "text": [
        "Got 19 Hits:\n",
        "Processing Norrmalm\n",
        "...\n",
        "Got 0 Hits:"
       ]
      },
      {
       "output_type": "stream",
       "stream": "stdout",
       "text": [
        "\n",
        "Processing Bromma\n",
        "...\n",
        "Got 0 Hits:"
       ]
      },
      {
       "output_type": "stream",
       "stream": "stdout",
       "text": [
        "\n",
        "Processing Skarpn\u00e4ck\n",
        "...\n",
        "Got 0 Hits:"
       ]
      },
      {
       "output_type": "stream",
       "stream": "stdout",
       "text": [
        "\n",
        "Processing Husby\n",
        "...\n",
        "Got 11 Hits:"
       ]
      },
      {
       "output_type": "stream",
       "stream": "stdout",
       "text": [
        "\n",
        "Processing Rinkeby"
       ]
      },
      {
       "output_type": "stream",
       "stream": "stdout",
       "text": [
        "\n",
        "...\n",
        "Got 7 Hits:"
       ]
      },
      {
       "output_type": "stream",
       "stream": "stdout",
       "text": [
        "\n",
        "Processing Farsta"
       ]
      },
      {
       "output_type": "stream",
       "stream": "stdout",
       "text": [
        "\n",
        "...\n",
        "Got 0 Hits:"
       ]
      },
      {
       "output_type": "stream",
       "stream": "stdout",
       "text": [
        "\n",
        "Processing Sp\u00e5nga-Tensta\n",
        "...\n",
        "Got 0 Hits:"
       ]
      },
      {
       "output_type": "stream",
       "stream": "stdout",
       "text": [
        "\n",
        "Processing Sk\u00e4rholmen\n",
        "...\n",
        "Got 0 Hits:"
       ]
      },
      {
       "output_type": "stream",
       "stream": "stdout",
       "text": [
        "\n",
        "Processing Akalla\n",
        "...\n",
        "Got 0 Hits:"
       ]
      },
      {
       "output_type": "stream",
       "stream": "stdout",
       "text": [
        "\n",
        "Processing G\u00e4rdet\n",
        "...\n",
        "Got 1 Hits:"
       ]
      },
      {
       "output_type": "stream",
       "stream": "stdout",
       "text": [
        "\n",
        "Processing S\u00f6dermalm"
       ]
      },
      {
       "output_type": "stream",
       "stream": "stdout",
       "text": [
        "\n",
        "...\n",
        "Got 0 Hits:"
       ]
      },
      {
       "output_type": "stream",
       "stream": "stdout",
       "text": [
        "\n",
        "Processing Enskede-\u00c5rsta-Vant\u00f6r\n",
        "...\n",
        "Got 0 Hits:"
       ]
      },
      {
       "output_type": "stream",
       "stream": "stdout",
       "text": [
        "\n",
        "Processing Rinkeby-Kista\n",
        "...\n",
        "Got 18 Hits:"
       ]
      },
      {
       "output_type": "stream",
       "stream": "stdout",
       "text": [
        "\n",
        "Processing Kista "
       ]
      },
      {
       "output_type": "stream",
       "stream": "stdout",
       "text": [
        "\n",
        "...\n",
        "Got 0 Hits:"
       ]
      },
      {
       "output_type": "stream",
       "stream": "stdout",
       "text": [
        "\n",
        "Processing H\u00e4gersten-Liljeholmen\n",
        "...\n",
        "Got 0 Hits:"
       ]
      },
      {
       "output_type": "stream",
       "stream": "stdout",
       "text": [
        "\n",
        "Processing H\u00e4sselby-V\u00e4llingby\n",
        "...\n",
        "Got 0 Hits:"
       ]
      },
      {
       "output_type": "stream",
       "stream": "stdout",
       "text": [
        "\n",
        "Processing \u00d6stermalm\n",
        "...\n",
        "Got 1 Hits:"
       ]
      },
      {
       "output_type": "stream",
       "stream": "stdout",
       "text": [
        "\n",
        "Processing Kungsholmen"
       ]
      },
      {
       "output_type": "stream",
       "stream": "stdout",
       "text": [
        "\n",
        "...\n",
        "Got 0 Hits:"
       ]
      },
      {
       "output_type": "stream",
       "stream": "stdout",
       "text": [
        "\n",
        "Processing \u00c4lvsj\u00f6\n",
        "...\n",
        "Got 0 Hits:"
       ]
      },
      {
       "ename": "NameError",
       "evalue": "name 'now' is not defined",
       "output_type": "pyerr",
       "traceback": [
        "\u001b[0;31m---------------------------------------------------------------------------\u001b[0m\n\u001b[0;31mNameError\u001b[0m                                 Traceback (most recent call last)",
        "\u001b[0;32m<ipython-input-81-07b0a20e7912>\u001b[0m in \u001b[0;36m<module>\u001b[0;34m()\u001b[0m\n\u001b[1;32m     49\u001b[0m     \u001b[0mmqtt\u001b[0m\u001b[0;34m.\u001b[0m\u001b[0mconnect\u001b[0m\u001b[0;34m(\u001b[0m\u001b[0mip\u001b[0m\u001b[0;34m,\u001b[0m\u001b[0mkeepalive\u001b[0m\u001b[0;34m=\u001b[0m\u001b[0;36m10\u001b[0m\u001b[0;34m)\u001b[0m\u001b[0;34m\u001b[0m\u001b[0m\n\u001b[1;32m     50\u001b[0m     \u001b[0;31m#mqtt.publish(topic = \"solardata/production/at\", payload=str((TrailTime,LeadTime)), qos=1, retain=True)\u001b[0m\u001b[0;34m\u001b[0m\u001b[0;34m\u001b[0m\u001b[0m\n\u001b[0;32m---> 51\u001b[0;31m     \u001b[0mmqtt\u001b[0m\u001b[0;34m.\u001b[0m\u001b[0mpublish\u001b[0m\u001b[0;34m(\u001b[0m\u001b[0mtopic\u001b[0m \u001b[0;34m=\u001b[0m \u001b[0;34m\"solardata/area-production/lastupdate\"\u001b[0m\u001b[0;34m,\u001b[0m \u001b[0mpayload\u001b[0m\u001b[0;34m=\u001b[0m\u001b[0mnow\u001b[0m\u001b[0;34m,\u001b[0m \u001b[0mqos\u001b[0m\u001b[0;34m=\u001b[0m\u001b[0;36m1\u001b[0m\u001b[0;34m,\u001b[0m \u001b[0mretain\u001b[0m\u001b[0;34m=\u001b[0m\u001b[0mTrue\u001b[0m\u001b[0;34m)\u001b[0m\u001b[0;34m\u001b[0m\u001b[0m\n\u001b[0m\u001b[1;32m     52\u001b[0m     \u001b[0mmqtt\u001b[0m\u001b[0;34m.\u001b[0m\u001b[0mpublish\u001b[0m\u001b[0;34m(\u001b[0m\u001b[0mtopic\u001b[0m \u001b[0;34m=\u001b[0m \u001b[0;34m\"system/\"\u001b[0m\u001b[0;34m+\u001b[0m \u001b[0mprefix\u001b[0m\u001b[0;34m,\u001b[0m \u001b[0mpayload\u001b[0m\u001b[0;34m=\u001b[0m\u001b[0;34m\"Idle\"\u001b[0m\u001b[0;34m,\u001b[0m \u001b[0mqos\u001b[0m\u001b[0;34m=\u001b[0m\u001b[0;36m1\u001b[0m\u001b[0;34m,\u001b[0m \u001b[0mretain\u001b[0m\u001b[0;34m=\u001b[0m\u001b[0mTrue\u001b[0m\u001b[0;34m)\u001b[0m\u001b[0;34m\u001b[0m\u001b[0m\n\u001b[1;32m     53\u001b[0m \u001b[0;34m\u001b[0m\u001b[0m\n",
        "\u001b[0;31mNameError\u001b[0m: name 'now' is not defined"
       ]
      },
      {
       "output_type": "stream",
       "stream": "stdout",
       "text": [
        "\n",
        "All done!\n"
       ]
      }
     ],
     "prompt_number": 81
    },
    {
     "cell_type": "code",
     "collapsed": false,
     "input": [
      "AreaProduction2"
     ],
     "language": "python",
     "metadata": {},
     "outputs": [
      {
       "html": [
        "<div style=\"max-height:1000px;max-width:1500px;overflow:auto;\">\n",
        "<table border=\"1\" class=\"dataframe\">\n",
        "  <thead>\n",
        "    <tr style=\"text-align: right;\">\n",
        "      <th></th>\n",
        "      <th>Power</th>\n",
        "      <th>nSumedPower</th>\n",
        "      <th>Pmax</th>\n",
        "      <th>nMax</th>\n",
        "      <th>PmaxSum</th>\n",
        "      <th>Energy</th>\n",
        "      <th>nSumedEnergy</th>\n",
        "    </tr>\n",
        "  </thead>\n",
        "  <tbody>\n",
        "    <tr>\n",
        "      <th>1396930200</th>\n",
        "      <td> 1588</td>\n",
        "      <td> 10</td>\n",
        "      <td> 229300</td>\n",
        "      <td>  9</td>\n",
        "      <td> 270500</td>\n",
        "      <td> 1166300</td>\n",
        "      <td> 10</td>\n",
        "    </tr>\n",
        "    <tr>\n",
        "      <th>1396930200</th>\n",
        "      <td> 1588</td>\n",
        "      <td> 10</td>\n",
        "      <td> 244600</td>\n",
        "      <td> 10</td>\n",
        "      <td> 270500</td>\n",
        "      <td> 1166300</td>\n",
        "      <td> 10</td>\n",
        "    </tr>\n",
        "    <tr>\n",
        "      <th>1396932600</th>\n",
        "      <td>    1</td>\n",
        "      <td>  1</td>\n",
        "      <td> 244600</td>\n",
        "      <td> 10</td>\n",
        "      <td>  28000</td>\n",
        "      <td> 1166300</td>\n",
        "      <td> 10</td>\n",
        "    </tr>\n",
        "    <tr>\n",
        "      <th>1396933200</th>\n",
        "      <td>    9</td>\n",
        "      <td>  1</td>\n",
        "      <td> 244600</td>\n",
        "      <td> 10</td>\n",
        "      <td>  28000</td>\n",
        "      <td> 1166300</td>\n",
        "      <td> 10</td>\n",
        "    </tr>\n",
        "    <tr>\n",
        "      <th>1396933800</th>\n",
        "      <td>   51</td>\n",
        "      <td>  2</td>\n",
        "      <td> 244600</td>\n",
        "      <td> 10</td>\n",
        "      <td>  63500</td>\n",
        "      <td> 1166300</td>\n",
        "      <td> 10</td>\n",
        "    </tr>\n",
        "    <tr>\n",
        "      <th>1396934400</th>\n",
        "      <td>  408</td>\n",
        "      <td>  4</td>\n",
        "      <td> 244600</td>\n",
        "      <td> 10</td>\n",
        "      <td> 102600</td>\n",
        "      <td> 1166300</td>\n",
        "      <td> 10</td>\n",
        "    </tr>\n",
        "    <tr>\n",
        "      <th>1396935000</th>\n",
        "      <td> 1136</td>\n",
        "      <td>  5</td>\n",
        "      <td> 244600</td>\n",
        "      <td> 10</td>\n",
        "      <td> 121700</td>\n",
        "      <td> 1166300</td>\n",
        "      <td> 10</td>\n",
        "    </tr>\n",
        "    <tr>\n",
        "      <th>1396935600</th>\n",
        "      <td> 1426</td>\n",
        "      <td>  5</td>\n",
        "      <td> 244600</td>\n",
        "      <td> 10</td>\n",
        "      <td> 121700</td>\n",
        "      <td> 1166000</td>\n",
        "      <td> 10</td>\n",
        "    </tr>\n",
        "    <tr>\n",
        "      <th>1396936200</th>\n",
        "      <td> 1199</td>\n",
        "      <td>  5</td>\n",
        "      <td> 244600</td>\n",
        "      <td> 10</td>\n",
        "      <td> 121700</td>\n",
        "      <td> 1166000</td>\n",
        "      <td> 10</td>\n",
        "    </tr>\n",
        "    <tr>\n",
        "      <th>1396936800</th>\n",
        "      <td> 1444</td>\n",
        "      <td>  5</td>\n",
        "      <td> 244600</td>\n",
        "      <td> 10</td>\n",
        "      <td> 121700</td>\n",
        "      <td> 1166100</td>\n",
        "      <td> 10</td>\n",
        "    </tr>\n",
        "    <tr>\n",
        "      <th>1396937400</th>\n",
        "      <td> 1435</td>\n",
        "      <td>  4</td>\n",
        "      <td> 244600</td>\n",
        "      <td> 10</td>\n",
        "      <td> 102700</td>\n",
        "      <td> 1166300</td>\n",
        "      <td> 10</td>\n",
        "    </tr>\n",
        "  </tbody>\n",
        "</table>\n",
        "</div>"
       ],
       "metadata": {},
       "output_type": "pyout",
       "prompt_number": 59,
       "text": [
        "            Power  nSumedPower    Pmax  nMax  PmaxSum   Energy  nSumedEnergy\n",
        "1396930200   1588           10  229300     9   270500  1166300            10\n",
        "1396930200   1588           10  244600    10   270500  1166300            10\n",
        "1396932600      1            1  244600    10    28000  1166300            10\n",
        "1396933200      9            1  244600    10    28000  1166300            10\n",
        "1396933800     51            2  244600    10    63500  1166300            10\n",
        "1396934400    408            4  244600    10   102600  1166300            10\n",
        "1396935000   1136            5  244600    10   121700  1166300            10\n",
        "1396935600   1426            5  244600    10   121700  1166000            10\n",
        "1396936200   1199            5  244600    10   121700  1166000            10\n",
        "1396936800   1444            5  244600    10   121700  1166100            10\n",
        "1396937400   1435            4  244600    10   102700  1166300            10"
       ]
      }
     ],
     "prompt_number": 59
    },
    {
     "cell_type": "code",
     "collapsed": false,
     "input": [
      "print \"Hej h\u00e5\""
     ],
     "language": "python",
     "metadata": {},
     "outputs": [
      {
       "output_type": "stream",
       "stream": "stdout",
       "text": [
        "Hej h\u00e5\n"
       ]
      }
     ],
     "prompt_number": 52
    },
    {
     "cell_type": "code",
     "collapsed": false,
     "input": [
      "time.time()"
     ],
     "language": "python",
     "metadata": {},
     "outputs": [
      {
       "metadata": {},
       "output_type": "pyout",
       "prompt_number": 55,
       "text": [
        "1405197126.862326"
       ]
      }
     ],
     "prompt_number": 55
    },
    {
     "cell_type": "code",
     "collapsed": false,
     "input": [
      "hits = es.GetHitsMatchingPropDict(\"solar-sites-index\",\"meta-data\",{\"Operator\":\"SLB\"})"
     ],
     "language": "python",
     "metadata": {},
     "outputs": [
      {
       "output_type": "stream",
       "stream": "stdout",
       "text": [
        "Got 0 Hits:\n"
       ]
      }
     ],
     "prompt_number": 57
    },
    {
     "cell_type": "code",
     "collapsed": false,
     "input": [
      "site = \"2a31fb24-347b-4924-ab89-5c434771a2ae\"\n",
      "timestamp = time.time()"
     ],
     "language": "python",
     "metadata": {},
     "outputs": [],
     "prompt_number": 17
    },
    {
     "cell_type": "code",
     "collapsed": false,
     "input": [
      "test = ProductionDB.GetDataAfterTime(site,timestamp=timestamp-60*60*5,limit = 100)"
     ],
     "language": "python",
     "metadata": {},
     "outputs": [],
     "prompt_number": 21
    },
    {
     "cell_type": "code",
     "collapsed": false,
     "input": [
      "def EpocToDate(timestamp):\n",
      "    return time.strftime(\"%Y-%m-%d %H:%M:%S\",time.localtime(timestamp))\n",
      "\n",
      "Series = ProductionDB.ListSeries()\n",
      "for serie in Series:\n",
      " print serie, EpocToDate(ProductionDB.GetFirstTimestamp(serie)/1000)"
     ],
     "language": "python",
     "metadata": {},
     "outputs": [
      {
       "output_type": "stream",
       "stream": "stdout",
       "text": [
        " 2a31fb24-347b-4924-ab89-5c434771a2ae 2014-03-05 17:00:00\n",
        "32383bde-7648-4abe-9dac-44701eabd72f 2014-04-09 06:10:00\n",
        "46d55815-f927-459f-a8e2-8bbcd88008ee 2013-10-16 07:20:00\n",
        "4a39b124-f594-11e3-a510-f23c9173ce4a 2014-06-06 03:30:00\n",
        "4cf6c743-8d0b-45f0-aa72-8a0c10315cf5 2014-03-26 05:30:00\n",
        "6f075b69-b823-4e6b-8021-dd751cc79eea "
       ]
      },
      {
       "output_type": "stream",
       "stream": "stdout",
       "text": [
        "2014-03-06 08:50:00\n",
        "709e47a1-ca88-4c22-890f-2407e9cb131a 2014-04-08 06:10:00\n",
        "71b0e5ec-1da8-11e4-a510-f23c9173ce4a 2014-06-09 17:20:00\n",
        "79ea7d0e-1da8-11e4-a510-f23c9173ce4a 2014-06-09 03:20:00\n",
        "802afb51-c5eb-4230-9b22-9a77ef7260b3 2014-03-05 16:30:00\n",
        "845e5e54-1da8-11e4-a510-f23c9173ce4a 2014-06-11 17:30:00\n",
        "8b28b202-1da8-11e4-a510-f23c9173ce4a 2014-06-11 19:20:00\n",
        "916b6e8e-1da8-11e4-a510-f23c9173ce4a 2014-06-12 09:10:00\n",
        "b0dd71a8-efe8-41eb-bab1-633ebaaa778c "
       ]
      },
      {
       "output_type": "stream",
       "stream": "stdout",
       "text": [
        "2014-04-10 10:30:00\n",
        "c6261166-f651-11e3-a510-f23c9173ce4a 2014-04-07 06:00:00\n",
        "e63710a4-78d9-4071-9a2e-ad35534355f4 2014-03-05 12:30:00\n",
        "e8a13982-f651-11e3-a510-f23c9173ce4a 2014-04-07 06:00:00\n",
        "f1136e33-d227-4fbd-ae72-d3488d70ba89 "
       ]
      },
      {
       "output_type": "stream",
       "stream": "stdout",
       "text": [
        "2014-03-06 08:10:00\n",
        "face0d13-b22d-48fe-bec1-d29732604133 2014-04-08 06:10:00\n"
       ]
      }
     ],
     "prompt_number": 86
    },
    {
     "cell_type": "code",
     "collapsed": false,
     "input": [
      "test.iloc[-1].Power"
     ],
     "language": "python",
     "metadata": {},
     "outputs": [
      {
       "metadata": {},
       "output_type": "pyout",
       "prompt_number": 39,
       "text": [
        "0.0"
       ]
      }
     ],
     "prompt_number": 39
    },
    {
     "cell_type": "code",
     "collapsed": false,
     "input": [
      "test[\"Energy\"].max()\n"
     ],
     "language": "python",
     "metadata": {},
     "outputs": [
      {
       "metadata": {},
       "output_type": "pyout",
       "prompt_number": 44,
       "text": [
        "18176800.0"
       ]
      }
     ],
     "prompt_number": 44
    },
    {
     "cell_type": "code",
     "collapsed": false,
     "input": [
      "cd /home/iot/repos/SolarDataRESTfulAPI/\n"
     ],
     "language": "python",
     "metadata": {},
     "outputs": [
      {
       "output_type": "stream",
       "stream": "stdout",
       "text": [
        "/home/iot/repos/SolarDataRESTfulAPI\n"
       ]
      }
     ],
     "prompt_number": 4
    },
    {
     "cell_type": "code",
     "collapsed": false,
     "input": [
      "ls"
     ],
     "language": "python",
     "metadata": {},
     "outputs": [
      {
       "output_type": "stream",
       "stream": "stdout",
       "text": [
        "cvs_importer.py             influxInterfaceCredentials2.json  \u001b[0m\u001b[01;32mSLB_DataImporter.py\u001b[0m*\r\n",
        "ElasticsearchInterface.py   IoTtoolkit.py                     \u001b[01;32mSolarAreaProductionProducer.py\u001b[0m*\r\n",
        "ElasticsearchInterface.pyc  IoTtoolkit.pyc                    SolarDataRESTapi.py\r\n",
        "Feeds.json                  LICENSE                           \u001b[01;32mSolarProductionProducer.py\u001b[0m*\r\n",
        "InfluxDBInterface.py        README.md                         \u001b[01;32mSolarRestAPI.sh\u001b[0m*\r\n",
        "InfluxDBInterface.pyc       \u001b[01;32mSeriesStatus.py\u001b[0m*                  Universe.json\r\n",
        "influxDBSolarREST.py        SiteIDs.json\r\n"
       ]
      }
     ],
     "prompt_number": 5
    },
    {
     "cell_type": "code",
     "collapsed": false,
     "input": [
      "cat influxInterfaceCredentials2.json"
     ],
     "language": "python",
     "metadata": {},
     "outputs": [
      {
       "output_type": "stream",
       "stream": "stdout",
       "text": [
        "[{\"host\":\"livinglab2.powerprojects.se\",\r\n",
        " \"port\":8086,\r\n",
        " \"user\":\"uploader\",\r\n",
        " \"password\":\"ryKkSSnveKVpUMROt8kqvZCGJXJveu8MkJO\",\r\n",
        " \"database\":\"SolarLogdata\"},\r\n",
        "{\"host\":\"livinglab2.powerprojects.se\",\r\n",
        " \"port\":8086,\r\n",
        " \"user\":\"uploader\",\r\n",
        " \"password\":\"ryKkSSnveKVpUMROt8kqvZCGJXJveu8MkJO\",\r\n",
        " \"database\":\"SolarProductionSites\"},\r\n",
        "{\"host\":\"livinglab2.powerprojects.se\",\r\n",
        " \"port\":8086,\r\n",
        " \"user\":\"uploader\",\r\n",
        " \"password\":\"ryKkSSnveKVpUMROt8kqvZCGJXJveu8MkJO\",\r\n",
        " \"database\":\"SolarProductionAreas\"},\r\n",
        "{\"host\":\"livinglab2.powerprojects.se\",\r\n",
        " \"port\":8086,\r\n",
        " \"user\":\"uploader\",\r\n",
        " \"password\":\"ryKkSSnveKVpUMROt8kqvZCGJXJveu8MkJO\",\r\n",
        " \"database\":\"test\"}]\r\n",
        "\r\n",
        "\r\n"
       ]
      }
     ],
     "prompt_number": 6
    },
    {
     "cell_type": "code",
     "collapsed": false,
     "input": [],
     "language": "python",
     "metadata": {},
     "outputs": []
    }
   ],
   "metadata": {}
  }
 ]
}